{
 "cells": [
  {
   "cell_type": "markdown",
   "metadata": {},
   "source": [
    "# Лекция 12\n",
    "## Корректности скобочной последовательности\n",
    "(()(())())()\n",
    "стэк - структура данных\n",
    "2 операции: \n",
    "1) помещать элемент в стэк\n",
    "2) забирать его\n",
    "последнее что положили, то и забираем\n",
    "list \n",
    "библиотека collections deque - очередь с двумя концами\n"
   ]
  },
  {
   "cell_type": "code",
   "execution_count": 2,
   "metadata": {},
   "outputs": [
    {
     "name": "stdout",
     "output_type": "stream",
     "text": [
      "OK\n"
     ]
    }
   ],
   "source": [
    "\n",
    "stack = []\n",
    "\n",
    "data = input()\n",
    "\n",
    "for c in  data:\n",
    "    if c in '([{':\n",
    "        stack.append(c)\n",
    "    if c in ')]}':\n",
    "        if len(stack) == 0: break\n",
    "        if stack.pop() + c not in '()[]{}': break\n",
    "\n",
    "else:\n",
    "    if len(stack) == 0:\n",
    "        print('OK')"
   ]
  },
  {
   "cell_type": "markdown",
   "metadata": {},
   "source": [
    "## Обратная польская запись \n",
    "Постфиксная запись\n",
    "\n",
    "2 + 3 * 5 + 7 * (2 -4)\n",
    "\n",
    "         ||\n",
    "         \n",
    "2 3 5 * 7 2 4 - * + + \n",
    "\n",
    "(операция с двумя элементами до него)"
   ]
  },
  {
   "cell_type": "code",
   "execution_count": 6,
   "metadata": {},
   "outputs": [
    {
     "name": "stdout",
     "output_type": "stream",
     "text": [
      "[2.0, 3.0, 4.0, '*', 5.0, 5.0, 6.0, '-', 3.0, '^', '*', '+', '+']\n",
      "9.0\n"
     ]
    }
   ],
   "source": [
    "def prior(oper):\n",
    "    if oper == '(': return 0\n",
    "    if oper in '+-': return 1\n",
    "    if oper in '*/': return 2 \n",
    "    if oper in '^': return 3\n",
    "def to_pol(s:str):\n",
    "    res = []\n",
    "    stack = []\n",
    "    for a in s.split():\n",
    "        if a == '(':\n",
    "            stack.append(a)\n",
    "        elif a == ')':\n",
    "            b = stack.pop()\n",
    "            while b != '(':\n",
    "                res.append(b)\n",
    "                b = stack.pop()\n",
    "        elif a in '+-*/^':\n",
    "            while len(stack) != 0 and prior(a) < prior(stack[-1]):\n",
    "                res.append(stack.pop())\n",
    "            stack.append(a)\n",
    "        else: # a is a number\n",
    "            res.append(float(a))\n",
    "    while len(stack): res.append(stack.pop())\n",
    "    return res\n",
    "\n",
    "def calc(data):\n",
    "    stack = []\n",
    "    for el in data:\n",
    "        if type(el) is float:\n",
    "            stack.append(el)\n",
    "        elif el == '+':\n",
    "            stack.append(stack.pop() + stack.pop())\n",
    "        elif el == '-':\n",
    "            stack.append(- stack.pop() + stack.pop())\n",
    "        elif el == '*':\n",
    "            stack.append(stack.pop() * stack.pop())\n",
    "        elif el == '/':\n",
    "            stack.append(1 / stack.pop() * stack.pop())\n",
    "        elif el == '^':\n",
    "            y = stack.pop()\n",
    "            stack[-1] **= y\n",
    "\n",
    "    return stack[0]\n",
    "        \n",
    "        \n",
    "        \n",
    "\n",
    "if __name__ == '__main__':\n",
    "    inp = ' 2 + 3 * 4 + 5 * ( 5 - 6 ) ^ 3'\n",
    "    print(to_pol(inp))\n",
    "    print(calc(to_pol(inp)))"
   ]
  },
  {
   "cell_type": "markdown",
   "metadata": {},
   "source": [
    "## ООП\n",
    "1) Компьютерные коды \n",
    "32 -> + \n",
    "2) Ассемблер\n",
    "3) Функциональные языки \n",
    "Fortran Lisp\n",
    "|\n",
    "v \n",
    "4) ООП"
   ]
  }
 ],
 "metadata": {
  "kernelspec": {
   "display_name": "Python 3",
   "language": "python",
   "name": "python3"
  },
  "language_info": {
   "codemirror_mode": {
    "name": "ipython",
    "version": 3
   },
   "file_extension": ".py",
   "mimetype": "text/x-python",
   "name": "python",
   "nbconvert_exporter": "python",
   "pygments_lexer": "ipython3",
   "version": "3.11.5"
  }
 },
 "nbformat": 4,
 "nbformat_minor": 2
}
