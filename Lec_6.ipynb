{
 "cells": [
  {
   "cell_type": "markdown",
   "metadata": {},
   "source": [
    "\n",
    "### __Лекция 6__\n",
    "#### Сортировки\n",
    "_12.06.2024_\n",
    "***\n",
    "Виды сортировок:\n",
    "- Сортировка обезьянки $O(n!)$\n",
    "- Сортиовка дурака $O(n^3)$ -> $O(n)$\n",
    "- Сортировка выбором $O(n^2)$:\n",
    "\n",
    "7 3 8 5 4 __0__ 1 2\n",
    "\n",
    "    n   min_v   p\n",
    "\n",
    "\n",
    "\n",
    "\n",
    "\n",
    "\n",
    "\n",
    "\n"
   ]
  },
  {
   "cell_type": "code",
   "execution_count": 2,
   "metadata": {},
   "outputs": [
    {
     "name": "stdout",
     "output_type": "stream",
     "text": [
      "[32, 11, 47, 27, 59, 38, 96, 70, 72, 52]\n",
      "[11, 27, 32, 38, 47, 52, 59, 70, 72, 96]\n"
     ]
    }
   ],
   "source": [
    "def sel_sort(A: list):\n",
    "    '''sorting A using selected sort alg (2nd var)'''\n",
    "    for i in range(len(A) - 1):\n",
    "        for j in range(i+1, len(A)):\n",
    "            if A[i] > A[j]:\n",
    "                A[i], A[j] = A[j], A[i]\n",
    "    return A\n",
    "\n",
    "from random import randint\n",
    "A = [randint(10, 99) for _ in range(10)]\n",
    "print(A)\n",
    "sel_sort(A)\n",
    "print(A)"
   ]
  },
  {
   "cell_type": "markdown",
   "metadata": {},
   "source": [
    "- Сортировка пузырьком $O(n^2)$:\n",
    "\n",
    "0 7 5 8 4 3 1 2\n",
    "\n",
    "0 5 7 4 3 1 2 8\n",
    "\n",
    "0 5 7 3 1 2 4 8\n",
    "\n",
    "0 5 7 1 2 3 4 8\n",
    "\n",
    "0 5 1 2 3 4 7 8"
   ]
  },
  {
   "cell_type": "code",
   "execution_count": 4,
   "metadata": {},
   "outputs": [
    {
     "name": "stdout",
     "output_type": "stream",
     "text": [
      "[24, 45, 91, 95, 12, 95, 69, 62, 81, 56]\n",
      "[12, 24, 45, 56, 62, 69, 81, 91, 95, 95]\n"
     ]
    }
   ],
   "source": [
    "def bubble_sort(A: list):\n",
    "    '''sorting A using bubble sort alg'''\n",
    "    for i in range(len(A) - 1, 0, -1):\n",
    "        for j in range(i):\n",
    "            if A[j] > A[j+1]:\n",
    "                A[j], A[j+1] = A[j+1], A[j]\n",
    "    return A\n",
    "\n",
    "from random import randint\n",
    "A = [randint(10, 99) for _ in range(10)]\n",
    "print(A)\n",
    "sel_sort(A)\n",
    "print(A)\n"
   ]
  },
  {
   "cell_type": "markdown",
   "metadata": {},
   "source": [
    "- Сортировка вставкой $O(n^2)$ -> $O(n)$:\n",
    "\n",
    "6 7 5 4 3 1 2 0\n",
    "\n",
    "6\n",
    "\n",
    "6 7\n",
    "\n",
    "6 7 5 -> 6 5 7 -> 5 6 7\n",
    "\n",
    "5 6 7 4 -> -> 4 5 6 7\n",
    "\n",
    "4 5 6 7 3 -> -> ...\n",
    "\n",
    "..."
   ]
  },
  {
   "cell_type": "code",
   "execution_count": 3,
   "metadata": {},
   "outputs": [
    {
     "name": "stdout",
     "output_type": "stream",
     "text": [
      "[33, 25, 25, 79, 28, 11, 55, 32, 25, 89]\n",
      "[11, 25, 25, 25, 28, 32, 33, 55, 79, 89]\n"
     ]
    }
   ],
   "source": [
    "def insert_sort(A: list):\n",
    "    '''sorting A using insert sort alg'''\n",
    "    for i in range(1, len(A)):\n",
    "        while i > 0 and A[i] < A[i-1]:\n",
    "            A[i], A[i-1] = A[i-1], A[i]\n",
    "            i -= 1\n",
    "    return A\n",
    "\n",
    "from random import randint\n",
    "A = [randint(10, 99) for _ in range(10)]\n",
    "print(A)\n",
    "sel_sort(A)\n",
    "print(A)"
   ]
  },
  {
   "cell_type": "markdown",
   "metadata": {},
   "source": [
    "- Сортировка подсчётом $O(n)$:\n",
    "\n",
    "1 2 1 1 3 3 2 4 1 7 3 8 5\n",
    "\n",
    "    0   1   2   3   4   5   6   7   8   9\n",
    "    0   4   2   3   1   1   0   1   1   0\n",
    "\n",
    "1 1 1 1 2 2 3 3 3 4 5 7 8\n"
   ]
  },
  {
   "cell_type": "code",
   "execution_count": 5,
   "metadata": {},
   "outputs": [
    {
     "name": "stdout",
     "output_type": "stream",
     "text": [
      "[2, 5, 2, 4, 3, 6, 3, 3, 6, 9]\n",
      "[2, 2, 3, 3, 3, 4, 5, 6, 6, 9]\n"
     ]
    }
   ],
   "source": [
    "def count_sort(A: list):\n",
    "    '''sorting A using count sort alg'''\n",
    "    counts = [0] * 10\n",
    "    for i in A:\n",
    "        counts[i] += 1\n",
    "    A.clear()\n",
    "    for i in range(10):\n",
    "        for _ in range(counts[i]):\n",
    "            A.append(i)\n",
    "\n",
    "from random import randint\n",
    "A = [randint(0, 9) for _ in range(10)]\n",
    "print(A)\n",
    "count_sort(A)\n",
    "print(A)\n"
   ]
  },
  {
   "cell_type": "markdown",
   "metadata": {},
   "source": [
    "- Сортировка поразрядная $O(n*m)$:\n",
    "\n",
    "1408 3609 9999 5252 116\n",
    "\n",
    "    0   \n",
    "    1\n",
    "    2   5252\n",
    "    3\n",
    "    4\n",
    "    5\n",
    "    6   116\n",
    "    7\n",
    "    8   1408\n",
    "    9   3609    9999\n",
    "\n",
    "5252 116 1408 3609 9999\n",
    "\n",
    "    0   1408    3609\n",
    "    1   116\n",
    "    2\n",
    "    3\n",
    "    4\n",
    "    5   5252\n",
    "    6\n",
    "    7\n",
    "    8\n",
    "    9   9999\n",
    "\n",
    "1408 3609 116 5252 9999\n",
    "\n",
    "    0\n",
    "    1   116\n",
    "    2   5252\n",
    "    3\n",
    "    4   1408\n",
    "    5\n",
    "    6   3609\n",
    "    7\n",
    "    8\n",
    "    9   9999\n",
    "\n",
    "116 5252 1408 3609 9999\n",
    "\n",
    "    0   116\n",
    "    1   1408\n",
    "    2\n",
    "    3   3609\n",
    "    4\n",
    "    5   5252\n",
    "    6\n",
    "    7\n",
    "    8\n",
    "    9   9999\n",
    "\n",
    "116 1408 3609 5252 9999\n"
   ]
  },
  {
   "cell_type": "code",
   "execution_count": 10,
   "metadata": {},
   "outputs": [
    {
     "name": "stdout",
     "output_type": "stream",
     "text": [
      "[9592, 8785, 2724, 2251, 887, 9402, 950, 6825, 9650, 5623]\n",
      "[887, 950, 2251, 2724, 5623, 6825, 8785, 9402, 9592, 9650]\n"
     ]
    }
   ],
   "source": [
    "def radix_sort(A: list):\n",
    "    '''sorting A using radix sort alg'''\n",
    "    for i in range(4):\n",
    "        lists = [[] for _ in range(10)]\n",
    "        for a in A:\n",
    "            lists[(a // 10**i) % 10].append(a)\n",
    "        A.clear()\n",
    "        for lst in lists:\n",
    "            for x in lst:\n",
    "                A.append(x)\n",
    "    return A\n",
    "\n",
    "from random import randint\n",
    "A = [randint(100, 9999) for _ in range(10)]\n",
    "print(A)\n",
    "radix_sort(A)\n",
    "print(A)"
   ]
  }
 ],
 "metadata": {
  "kernelspec": {
   "display_name": "Python 3",
   "language": "python",
   "name": "python3"
  },
  "language_info": {
   "codemirror_mode": {
    "name": "ipython",
    "version": 3
   },
   "file_extension": ".py",
   "mimetype": "text/x-python",
   "name": "python",
   "nbconvert_exporter": "python",
   "pygments_lexer": "ipython3",
   "version": "3.11.5"
  }
 },
 "nbformat": 4,
 "nbformat_minor": 2
}
