{
 "cells": [
  {
   "cell_type": "markdown",
   "metadata": {},
   "source": [
    "# Лекция 4 \n",
    "## Функции \n",
    "Stack вызова функции\n",
    "переполнение стека - stack overflow\n",
    "\n",
    "### Структурное программирование\n",
    "\n",
    "## Массивы\n",
    "### List (список) \n",
    "внути списка может быть список\n",
    "\n",
    "a = [1, [2, 3], 4]\n",
    "a[1][1] = 3\n",
    "\n",
    "Списки можно скалдывать\n",
    "[1] + [2] = [1, 2]\n",
    "\n",
    "Можно списки умножать \n",
    "[1] * 5 = [1, 1 ,1 ,1, 1]\n",
    "\n",
    "Списки отличаются от строк, а = б изменяемые данные, то есть если а изменить, то и б изменится\n",
    "\n",
    "b = a.copy() - копия, все норм но копия 1 порядка \n",
    "deepcopy чтоб полностью копировать \n",
    "\n",
    "b = a не копия а меняется вместе с а \n",
    "\n",
    "Tuple (кортеж) нельзя изменить\n",
    "\n",
    "в квадратных скобках список \n",
    "без квадратных - кортеж\n",
    "\n",
    "a = [1, 2.0 , 'str', True]\n",
    "a[0] = 1\n"
   ]
  },
  {
   "cell_type": "code",
   "execution_count": 1,
   "metadata": {},
   "outputs": [
    {
     "name": "stdout",
     "output_type": "stream",
     "text": [
      "5\n",
      "5\n"
     ]
    }
   ],
   "source": [
    "x = input('Введите х')\n",
    "print(x)\n",
    "\n",
    "def func_name(x, y):\n",
    "    if x > y: \n",
    "        return x  \n",
    "    return y\n",
    "    \n",
    "print(func_name(4, 5))\n",
    "print(func_name('A', 'B')) # тоже работает по принципу словаря\n",
    "\n",
    "'''\n",
    "def max2(x:int, y:int) -> int:\n",
    "'''\n",
    "\n"
   ]
  },
  {
   "cell_type": "code",
   "execution_count": null,
   "metadata": {},
   "outputs": [],
   "source": [
    "def f():\n",
    "    for i in range(1000):\n",
    "        for j in range(10000): \n",
    "            for k in range(500):\n",
    "                if i + j * k == 450:\n",
    "                    return\n"
   ]
  },
  {
   "cell_type": "code",
   "execution_count": 2,
   "metadata": {},
   "outputs": [
    {
     "name": "stdout",
     "output_type": "stream",
     "text": [
      "49999995000000\n"
     ]
    }
   ],
   "source": [
    "def f():\n",
    "    s = 0 \n",
    "    for i in range(10_000_000):\n",
    "        s += i\n",
    "    print(s)\n",
    "\n",
    "f()\n",
    "\n",
    "# быстрее с функциями чем без"
   ]
  },
  {
   "cell_type": "code",
   "execution_count": null,
   "metadata": {},
   "outputs": [],
   "source": [
    "Z = 5, 6, 7 \n",
    "\n",
    "def max2(x, y):\n",
    "    if x > y:\n",
    "        return x \n",
    "    return y\n",
    "a = 1\n",
    "b = 2\n",
    "def max3(a, b, c = max2(a,b)):\n",
    "    return max2(a, max2(b,c))\n",
    "\n",
    "max3(*Z)\n",
    "\n",
    "def foo(a, b, /, c, d=6, *, e = 4, f = 8):  # по разному задается как мы обращаемся к переменным \n",
    "    print(a, b, c, d, e, f)\n",
    "\n",
    "foo(1,2,3,4)"
   ]
  },
  {
   "cell_type": "code",
   "execution_count": null,
   "metadata": {},
   "outputs": [],
   "source": [
    "# brukeforce - полный перебор \n",
    "\n",
    "def is_simple(a:int) -> bool:\n",
    "    '''функция возвращает True, если число простое, иначе - False'''\n",
    "    if type(a) is not int or a <2:\n",
    "        return False\n",
    "    \n",
    "    for i in range(2, a):\n",
    "        if a % i == 0: \n",
    "            return False\n",
    "        \n",
    "    return True\n",
    "\n",
    "def factor(a:int) -> None:\n",
    "    '''печатает все делители числа а'''\n",
    "    if type(a) is not int or a < 1:\n",
    "        return False\n",
    "    \n",
    "    d = 2\n",
    "    while d < a:\n",
    "        if a % d == 0:\n",
    "            print(d, end=' ')\n",
    "            a //= d\n",
    "\n",
    "        else:\n",
    "            d += 1\n",
    "\n",
    "    print(a) \n",
    "\n",
    "\n",
    "if __name__ == '__main__':\n",
    "    print(is_simple(int(input)))\n",
    "\n"
   ]
  }
 ],
 "metadata": {
  "kernelspec": {
   "display_name": "Python 3",
   "language": "python",
   "name": "python3"
  },
  "language_info": {
   "codemirror_mode": {
    "name": "ipython",
    "version": 3
   },
   "file_extension": ".py",
   "mimetype": "text/x-python",
   "name": "python",
   "nbconvert_exporter": "python",
   "pygments_lexer": "ipython3",
   "version": "3.11.5"
  }
 },
 "nbformat": 4,
 "nbformat_minor": 2
}
