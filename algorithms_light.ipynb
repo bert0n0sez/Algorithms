{
 "cells": [
  {
   "cell_type": "markdown",
   "metadata": {},
   "source": [
    "# Нахождение трёх максимальных элементов в последовательности за один проход."
   ]
  },
  {
   "cell_type": "code",
   "execution_count": null,
   "metadata": {},
   "outputs": [],
   "source": [
    "def find_three_largest(nums):\n",
    "    # Инициализируем три переменные для хранения трех максимальных значений\n",
    "    first = second = third = float('-inf')\n",
    "\n",
    "    for num in nums:\n",
    "        # Обновляем максимальные значения\n",
    "        if num > first:\n",
    "            third = second  # Обновляем третье максимальное\n",
    "            second = first   # Обновляем второе максимальное\n",
    "            first = num      # Обновляем первое максимальное\n",
    "        elif num > second:\n",
    "            third = second  # Обновляем третье максимальное\n",
    "            second = num    # Обновляем второе максимальное\n",
    "        elif num > third:\n",
    "            third = num     # Обновляем третье максимальное\n",
    "\n",
    "    # Проверяем, были ли найдены три уникальных максимальных значения\n",
    "    if third == float('-inf'):\n",
    "        return \"Недостаточно уникальных элементов\"\n",
    "    \n",
    "    return first, second, third\n",
    "\n",
    "# Пример использования\n",
    "numbers = [3, 1, 4, 4, 5, 2, 5, 6]\n",
    "result = find_three_largest(numbers)\n",
    "print(result)  # Вывод: (6, 5, 4)\n"
   ]
  },
  {
   "cell_type": "markdown",
   "metadata": {},
   "source": [
    "# Поиск местоположения максимума в последовательности за один проход."
   ]
  },
  {
   "cell_type": "code",
   "execution_count": null,
   "metadata": {},
   "outputs": [],
   "source": [
    "def find_maximum_location(nums):\n",
    "    if not nums:  # Проверка на пустую последовательность\n",
    "        return \"Последовательность пуста\"\n",
    "\n",
    "    max_value = nums[0]  # Инициализируем максимальное значение первым элементом\n",
    "    max_index = 0        # Инициализируем индекс максимального значения\n",
    "\n",
    "    for index in range(1, len(nums)):\n",
    "        if nums[index] > max_value:\n",
    "            max_value = nums[index]  # Обновляем максимальное значение\n",
    "            max_index = index         # Обновляем индекс максимального значения\n",
    "\n",
    "    return max_index, max_value  # Возвращаем индекс и значение максимума\n",
    "\n",
    "# Пример использования\n",
    "numbers = [3, 1, 4, 1, 5, 9, 2, 6, 5]\n",
    "result = find_maximum_location(numbers)\n",
    "print(f\"Индекс максимума: {result[0]}, Значение максимума: {result[1]}\")  # Вывод: Индекс максимума: 5, Значение максим\n"
   ]
  },
  {
   "cell_type": "markdown",
   "metadata": {},
   "source": [
    "# Системы счисления. Перевод из одной системы счисления в другую.\n"
   ]
  },
  {
   "cell_type": "code",
   "execution_count": null,
   "metadata": {},
   "outputs": [],
   "source": [
    "\n",
    "\n",
    "def decimal_to_binary(n):\n",
    "    if n == 0:\n",
    "        return \"0\"\n",
    "    \n",
    "    binary = \"\"\n",
    "    while n > 0:\n",
    "        binary = str(n % 2) + binary  # Получаем остаток от деления на 2\n",
    "        n //= 2  # Делим на 2\n",
    "    return binary\n",
    "\n",
    "# Пример использования\n",
    "decimal_number = 10\n",
    "binary_number = decimal_to_binary(decimal_number)\n",
    "print(f\"{decimal_number} в двоичной системе: {binary_number}\")  # Вывод: 10 в двоичной системе: 1010\n",
    "\n",
    "\n",
    "def binary_to_decimal(binary_str):\n",
    "    decimal = 0\n",
    "    for i, digit in enumerate(reversed(binary_str)):\n",
    "        decimal += int(digit) * (2 ** i)  # Умножаем на 2 в степени позиции\n",
    "    return decimal\n",
    "\n",
    "# Пример использования\n",
    "binary_number = \"1010\"\n",
    "decimal_number = binary_to_decimal(binary_number)\n",
    "print(f\"{binary_number} в десятичной системе: {decimal_number}\")  # Вывод: 1010 в десятичной системе: 10\n",
    "\n",
    "\n",
    "def decimal_to_hexadecimal(n):\n",
    "    if n == 0:\n",
    "        return \"0\"\n",
    "    \n",
    "    hex_chars = \"0123456789ABCDEF\"\n",
    "    hexadecimal = \"\"\n",
    "    while n > 0:\n",
    "        hexadecimal = hex_chars[n % 16] + hexadecimal  # Получаем остаток от деления на 16\n",
    "        n //= 16  # Делим на 16\n",
    "    return hexadecimal\n",
    "\n",
    "# Пример использования\n",
    "decimal_number = 255\n",
    "hexadecimal_number = decimal_to_hexadecimal(decimal_number)\n",
    "print(f\"{decimal_number} в шестнадцатеричной системе: {hexadecimal_number}\")  # Вывод: 255 в шестнадцатеричной системе: FF\n",
    "\n",
    "\n",
    "def hexadecimal_to_decimal(hex_str):\n",
    "    hex_chars = \"0123456789ABCDEF\"\n",
    "    decimal = 0\n",
    "    for i, digit in enumerate(reversed(hex_str)):\n",
    "        decimal += hex_chars.index(digit) * (16 ** i)  # Умножаем на 16 в степени позиции\n",
    "    return decimal\n",
    "\n",
    "# Пример использования\n",
    "hexadecimal_number = \"FF\"\n",
    "decimal_number = hexadecimal_to_decimal(hexadecimal_number)\n",
    "print(f\"{hexadecimal_number} в десятичной системе: {decimal_number}\")  # Вывод: FF в десятичной системе: 255"
   ]
  },
  {
   "cell_type": "markdown",
   "metadata": {},
   "source": [
    "# Проверка простоты числа. Метод грубой силы."
   ]
  },
  {
   "cell_type": "code",
   "execution_count": null,
   "metadata": {},
   "outputs": [],
   "source": [
    "import math\n",
    "\n",
    "def is_prime(n):\n",
    "    if n <= 1:\n",
    "        return False  # Числа меньше или равные 1 не являются простыми\n",
    "    if n <= 3:\n",
    "        return True   # 2 и 3 являются простыми числами\n",
    "\n",
    "    # Проверяем делимость на 2 и 3\n",
    "    if n % 2 == 0 or n % 3 == 0:\n",
    "        return False\n",
    "\n",
    "    # Проверяем делимость на числа от 5 до sqrt(n)\n",
    "    for i in range(5, int(math.sqrt(n)) + 1, 6):\n",
    "        if n % i == 0 or n % (i + 2) == 0:\n",
    "            return False\n",
    "\n",
    "    return True\n",
    "\n",
    "# Пример использования\n",
    "number = 29\n",
    "if is_prime(number):\n",
    "    print(f\"{number} является простым числом.\")  # Вывод: 29 является простым числом.\n",
    "else:\n",
    "    print(f\"{number} не является простым числом.\")"
   ]
  },
  {
   "cell_type": "markdown",
   "metadata": {},
   "source": [
    "# Разложение числа на множители."
   ]
  },
  {
   "cell_type": "code",
   "execution_count": null,
   "metadata": {},
   "outputs": [],
   "source": [
    "def factor(a:int) -> None:\n",
    "    '''печатает все делители числа а'''\n",
    "    if type(a) is not int or a < 1:\n",
    "        return False\n",
    "    \n",
    "    d = 2\n",
    "    while d < a:\n",
    "        if a % d == 0:\n",
    "            print(d, end=' ')\n",
    "            a //= d\n",
    "\n",
    "        else:\n",
    "            d += 1\n",
    "\n",
    "    print(a) "
   ]
  },
  {
   "cell_type": "markdown",
   "metadata": {},
   "source": [
    "# Алгоритм Евклида нахождения НОД."
   ]
  },
  {
   "cell_type": "code",
   "execution_count": null,
   "metadata": {},
   "outputs": [],
   "source": [
    "def gcd(a, b):\n",
    "    while b != 0:\n",
    "        a, b = b, a % b  # Обновляем a и b\n",
    "    return a  # Когда b становится 0, a содержит НОД"
   ]
  },
  {
   "cell_type": "markdown",
   "metadata": {},
   "source": [
    "# Числа Фиббоначи"
   ]
  },
  {
   "cell_type": "code",
   "execution_count": null,
   "metadata": {},
   "outputs": [],
   "source": [
    "def fib(N):\n",
    "    '''числа Фиббоначи'''\n",
    "    a = b = 1\n",
    "    for i in range(N-2):\n",
    "        a, b = b, a + b\n",
    "    return b"
   ]
  },
  {
   "cell_type": "markdown",
   "metadata": {},
   "source": [
    "# Наивный поиск подстроки в строке. Реализация без использования стандартных методов str."
   ]
  },
  {
   "cell_type": "code",
   "execution_count": null,
   "metadata": {},
   "outputs": [],
   "source": [
    "def naive_string_search(text, pattern):\n",
    "    n = len(text)\n",
    "    m = len(pattern)\n",
    "\n",
    "    # Проходим по всем возможным начальным индексам\n",
    "    for i in range(n - m + 1):\n",
    "        # Проверяем совпадение подстроки\n",
    "        j = 0\n",
    "        while j < m and text[i + j] == pattern[j]:\n",
    "            j += 1\n",
    "        # Если j равно длине паттерна, значит, подстрока найдена\n",
    "        if j == m:\n",
    "            return i  # Возвращаем индекс начала подстроки\n",
    "\n",
    "    return -1  # Если подстрока не найдена"
   ]
  },
  {
   "cell_type": "markdown",
   "metadata": {},
   "source": [
    "# Задача о количестве траекторий Кузнечика на числовой прямой."
   ]
  },
  {
   "cell_type": "code",
   "execution_count": null,
   "metadata": {},
   "outputs": [],
   "source": [
    "cache  = [0, 1]\n",
    "def grass_1(N:int) -> int:\n",
    "    '''return count of variants ... рекурсия с кэшированием\n",
    "    '''\n",
    "    if N < len(cache):\n",
    "        return cache[N]\n",
    "    res = grass_1(N-1) + grass_1(N-2)\n",
    "    cache.append(res)\n",
    "    return cache[N]\n",
    "\n",
    "def grass_2(N:int)->int:\n",
    "    A = [0, 1]\n",
    "    for i in range(2, N+1):\n",
    "        A.append(A[i-1] + A[i-2])\n",
    "    return A[N]\n",
    "\n",
    "def grass_3(N:int)->int:\n",
    "    A = [0] * (N+3)\n",
    "    A[1] = 1\n",
    "    for i in range(1, N):\n",
    "        A[i+1] += A[i]\n",
    "        A[i+2]+= A[i]\n",
    "    return A[N]"
   ]
  },
  {
   "cell_type": "markdown",
   "metadata": {},
   "source": [
    "# Проверки корректности скобочной последовательности с помощью стека."
   ]
  },
  {
   "cell_type": "code",
   "execution_count": null,
   "metadata": {},
   "outputs": [],
   "source": [
    "stack = []\n",
    "\n",
    "data = input()\n",
    "\n",
    "for c in  data:\n",
    "    if c in '([{':\n",
    "        stack.append(c)\n",
    "    if c in ')]}':\n",
    "        if len(stack) == 0: break\n",
    "        if stack.pop() + c not in '()[]{}': break\n",
    "\n",
    "else:\n",
    "    if len(stack) == 0:\n",
    "        print('OK')"
   ]
  },
  {
   "cell_type": "markdown",
   "metadata": {},
   "source": [
    "# Сортировка подсчётом. Оценка временной сложности алгоритма."
   ]
  },
  {
   "cell_type": "code",
   "execution_count": null,
   "metadata": {},
   "outputs": [],
   "source": [
    "def count_sort(A: list):\n",
    "    '''sorting A using count sort alg'''\n",
    "    counts = [0] * 10\n",
    "    for i in A:\n",
    "        counts[i] += 1\n",
    "    A.clear()\n",
    "    for i in range(10):\n",
    "        for _ in range(counts[i]):\n",
    "            A.append(i)\n",
    "\n",
    "from random import randint\n",
    "A = [randint(0, 9) for _ in range(10)]\n",
    "print(A)\n",
    "count_sort(A)\n",
    "print(A)"
   ]
  },
  {
   "cell_type": "markdown",
   "metadata": {},
   "source": [
    "# Алгоритм обращения чисел в массиве. Реализация циклом, без срезов."
   ]
  },
  {
   "cell_type": "code",
   "execution_count": 1,
   "metadata": {},
   "outputs": [
    {
     "name": "stdout",
     "output_type": "stream",
     "text": [
      "Исходный массив: [1, 2, 3, 4, 5]\n",
      "Обращенный массив: [5, 4, 3, 2, 1]\n"
     ]
    }
   ],
   "source": [
    "def reverse_array(arr):\n",
    "    left = 0\n",
    "    right = len(arr) - 1\n",
    "\n",
    "    while left < right:\n",
    "        # Обмен элементов\n",
    "        arr[left], arr[right] = arr[right], arr[left]\n",
    "        # Сдвигаем указатели\n",
    "        left += 1\n",
    "        right -= 1\n",
    "\n",
    "# Пример использования\n",
    "array = [1, 2, 3, 4, 5]\n",
    "print(\"Исходный массив:\", array)\n",
    "\n",
    "reverse_array(array)\n",
    "print(\"Обращенный массив:\", array)"
   ]
  },
  {
   "cell_type": "markdown",
   "metadata": {},
   "source": [
    "# Алгоритм циклического сдвига в массиве. Реализация циклом, без срезов."
   ]
  },
  {
   "cell_type": "code",
   "execution_count": 2,
   "metadata": {},
   "outputs": [
    {
     "name": "stdout",
     "output_type": "stream",
     "text": [
      "Исходный массив: [1, 2, 3, 4, 5]\n",
      "Массив после циклического сдвига вправо: [5, 1, 2, 3, 4]\n"
     ]
    }
   ],
   "source": [
    "def cyclic_shift_right(arr):\n",
    "    if len(arr) == 0:\n",
    "        return  # Если массив пустой, ничего не делаем\n",
    "\n",
    "    last_element = arr[-1]  # Сохраняем последний элемент\n",
    "    n = len(arr)\n",
    "\n",
    "    # Сдвигаем элементы вправо\n",
    "    for i in range(n - 1, 0, -1):\n",
    "        arr[i] = arr[i - 1]\n",
    "\n",
    "    arr[0] = last_element  # Перемещаем последний элемент на первое место\n",
    "\n",
    "# Пример использования\n",
    "array = [1, 2, 3, 4, 5]\n",
    "print(\"Исходный массив:\", array)\n",
    "\n",
    "cyclic_shift_right(array)\n",
    "print(\"Массив после циклического сдвига вправо:\", array)"
   ]
  },
  {
   "cell_type": "markdown",
   "metadata": {},
   "source": [
    "# Задача упорядочивания элементов в массиве. Проверка упорядоченности массива за O(N)."
   ]
  },
  {
   "cell_type": "code",
   "execution_count": null,
   "metadata": {},
   "outputs": [],
   "source": [
    "def is_sorted(A:list) -> bool:\n",
    "    for i in range(len(A) - 1):\n",
    "        if A[i] > A[i + 1]:\n",
    "            return False\n",
    "    return True"
   ]
  }
 ],
 "metadata": {
  "kernelspec": {
   "display_name": "Python 3",
   "language": "python",
   "name": "python3"
  },
  "language_info": {
   "codemirror_mode": {
    "name": "ipython",
    "version": 3
   },
   "file_extension": ".py",
   "mimetype": "text/x-python",
   "name": "python",
   "nbconvert_exporter": "python",
   "pygments_lexer": "ipython3",
   "version": "3.11.5"
  }
 },
 "nbformat": 4,
 "nbformat_minor": 2
}
