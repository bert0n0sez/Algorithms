{
 "cells": [
  {
   "cell_type": "markdown",
   "metadata": {},
   "source": [
    "# Решето Эратосфена. Оценка временной сложности алгоритма.\n",
    "## Алгоритм \n",
    "Для нахождения всех простых чисел не больше заданного числа n, следуя методу Эратосфена, нужно выполнить следующие шаги:\n",
    "1) Выписать подряд все целые числа от двух до n (2, 3, 4, …, n).\n",
    "2) Пусть переменная p изначально равна двум — первому простому числу.\n",
    "3) Зачеркнуть в списке числа от 2p до n, считая шагами по p (это будут числа, кратные p: 2p, 3p, 4p, …).\n",
    "4) Найти первое незачёркнутое число в списке, большее чем p, и присвоить значению переменной p это число.\n",
    "5) Повторять шаги 3 и 4, пока возможно.\n",
    "Теперь все незачёркнутые числа в списке — это все простые числа от 2 до n.\n",
    "На практике, алгоритм можно улучшить следующим образом. На шаге № 3 числа можно зачеркивать, начиная сразу с числа p2, потому что все меньшие числа, кратные p, обязательно имеют простой делитель меньше p, и они уже будут зачеркнуты к этому времени. И, соответственно, останавливать алгоритм можно, когда p2 станет больше, чем n. Кроме того, все простые числа, кроме 2, — нечётные числа, и поэтому для них можно считать шагами по 2p, начиная с p2."
   ]
  },
  {
   "cell_type": "code",
   "execution_count": null,
   "metadata": {},
   "outputs": [],
   "source": [
    "def eratosfen(N:int):                                                                \n",
    "    ''' print prime numbers from 2 to N                                                        \n",
    "    '''                                                                                 \n",
    "    A = [True] * N                                                                     \n",
    "    A[0] = A[1] = False                                                                 \n",
    "    for i in range(2, N):                                                             \n",
    "        if A[i]:                                                                      \n",
    "            for j in range(2*i, N, i):                                                  \n",
    "                A[j] = False                                                              \n",
    "    for i in range(N):                                                                \n",
    "        if A[i]: print(i, end=' ')"
   ]
  },
  {
   "cell_type": "markdown",
   "metadata": {},
   "source": [
    "# Сортировка вставками. Оценка временной сложности алгоритма.\n",
    "\n",
    "O($n^2$) -> O(n)"
   ]
  },
  {
   "cell_type": "code",
   "execution_count": null,
   "metadata": {},
   "outputs": [],
   "source": [
    "def insert_sort(A: list):\n",
    "    '''sorting A using insert sort alg'''\n",
    "    for i in range(1, len(A)):\n",
    "        while i > 0 and A[i] < A[i-1]:\n",
    "            A[i], A[i-1] = A[i-1], A[i]\n",
    "            i -= 1\n",
    "    return A"
   ]
  },
  {
   "cell_type": "markdown",
   "metadata": {},
   "source": [
    "# Сортировка выбором. Оценка временной сложности алгоритма.\n",
    "\n",
    "O($n^2$)"
   ]
  },
  {
   "cell_type": "code",
   "execution_count": null,
   "metadata": {},
   "outputs": [],
   "source": [
    "def sel_sort(A: list):\n",
    "    '''sorting A using selected sort alg (2nd var)'''\n",
    "    for i in range(len(A) - 1):\n",
    "        for j in range(i+1, len(A)):\n",
    "            if A[i] > A[j]:\n",
    "                A[i], A[j] = A[j], A[i]\n",
    "    return A"
   ]
  },
  {
   "cell_type": "markdown",
   "metadata": {},
   "source": [
    "# Сортировка методом пузырька. Оценка временной сложности алгоритма."
   ]
  },
  {
   "cell_type": "code",
   "execution_count": null,
   "metadata": {},
   "outputs": [],
   "source": [
    "def bubble_sort(A: list):\n",
    "    '''sorting A using bubble sort alg'''\n",
    "    for i in range(len(A) - 1, 0, -1):\n",
    "        for j in range(i):\n",
    "            if A[j] > A[j+1]:\n",
    "                A[j], A[j+1] = A[j+1], A[j]\n",
    "    return A"
   ]
  },
  {
   "cell_type": "markdown",
   "metadata": {},
   "source": [
    "# Поразрядная сортировка. Оценка временной сложности алгоритма.\n",
    "\n",
    "O(n*m)"
   ]
  },
  {
   "cell_type": "code",
   "execution_count": null,
   "metadata": {},
   "outputs": [],
   "source": [
    "def radix_sort(A: list):\n",
    "    '''sorting A using radix sort alg'''\n",
    "    for i in range(4):\n",
    "        lists = [[] for _ in range(10)]\n",
    "        for a in A:\n",
    "            lists[(a // 10**i) % 10].append(a)\n",
    "        A.clear()\n",
    "        for lst in lists:\n",
    "            for x in lst:\n",
    "                A.append(x)\n",
    "    return A"
   ]
  },
  {
   "cell_type": "markdown",
   "metadata": {},
   "source": [
    "# Быстрая сортировка Хоара. Временная сложность алгоритма (без док-ва).\n",
    "\n",
    "В среднем случае О(n log n)"
   ]
  },
  {
   "cell_type": "code",
   "execution_count": null,
   "metadata": {},
   "outputs": [],
   "source": [
    "import random\n",
    "\n",
    "def QuickSort(A):\n",
    "    if len(A) <= 1:\n",
    "        return A\n",
    "    else:\n",
    "        q = random.choice(A)\n",
    "        L = []\n",
    "        M = []\n",
    "        R = []\n",
    "        for elem in A:\n",
    "            if elem < q:\n",
    "                L.append(elem) \n",
    "            elif elem > q: \n",
    "                R.append(elem) \n",
    "            else: \n",
    "                M.append(elem)\n",
    "        return QuickSort(L) + M + QuickSort(R)\n",
    "    \n",
    "def hoar_sort(A, depth=1, part='left'):\n",
    "    print('depth:', depth, 'part:', part, 'array before:', A)\n",
    "    if len(A) > 1:\n",
    "        barrier = A[0]\n",
    "        left = []\n",
    "        middle = []  \n",
    "        right = []\n",
    "        for num in A:  \n",
    "            if num < barrier:\n",
    "                left.append(num)\n",
    "            elif num == barrier:\n",
    "                middle.append(num)\n",
    "            else:\n",
    "                right.append(num)  \n",
    "        hoar_sort(left, depth + 1)\n",
    "        hoar_sort(right, depth + 1, part= 'right')\n",
    "        k = 0  \n",
    "        for x in left + middle + right:\n",
    "            A[k] = x\n",
    "            k += 1\n",
    "        print('depth:', depth, 'part:', part, 'array after:', A)"
   ]
  },
  {
   "cell_type": "markdown",
   "metadata": {},
   "source": [
    "# Сортировка слиянием. Оценка временной сложности алгоритма.\n",
    "\n",
    "O( n log n)"
   ]
  },
  {
   "cell_type": "code",
   "execution_count": null,
   "metadata": {},
   "outputs": [],
   "source": [
    "def merge_sort0(nums): \n",
    "    if len(nums) > 1: \n",
    "        mid = len(nums)//2\n",
    "        left = nums[:mid] \n",
    "        right = nums[mid:]\n",
    "        merge_sort(left) \n",
    "        merge_sort(right) \n",
    "        i = j = k = 0\n",
    "        while i < len(left) and j < len(right): \n",
    "            if left[i] < right[j]: \n",
    "                nums[k] = left[i] \n",
    "                i+=1\n",
    "            else: \n",
    "                nums[k] = right[j] \n",
    "                j+=1\n",
    "            k+=1\n",
    "        while i < len(left): \n",
    "            nums[k] = left[i] \n",
    "            i+=1\n",
    "            k+=1\n",
    "        while j < len(right): \n",
    "            nums[k] = right[j] \n",
    "            j+=1\n",
    "            k+=1\n",
    "\n",
    "def merge(L:list, R:list)->list:\n",
    "    C = [0] * (len(L) + len(R))  \n",
    "    l, r, c = 0, 0, 0 \n",
    "\n",
    "    while l != len(L) and r != len(R): \n",
    "        if L[l] <= R[r]:                           \n",
    "                C[c] = L[l]\n",
    "                l += 1\n",
    "                c += 1\n",
    "        elif R[r] <= L[l]:\n",
    "                C[c] = R[r]\n",
    "                r += 1\n",
    "                c += 1\n",
    "\n",
    "    if l != len(L): \n",
    "        while c != len(C):\n",
    "            C[c] = L[l]\n",
    "            c += 1\n",
    "            l += 1\n",
    "            \n",
    "    elif r != len(R):\n",
    "        while c != len(C):\n",
    "            C[c] = R[r]\n",
    "            c += 1\n",
    "            r += 1    \n",
    "            \n",
    "    return C\n",
    "\n",
    "def merge_sort(A, depth=1, part='left'):\n",
    "    print('depth:', depth, '|', 'part:', part, '|', 'array:', A)   \n",
    "    if len(A) > 1: \n",
    "        left = A[: len(A) // 2]\n",
    "        right = A[len(A) // 2 :]\n",
    "        \n",
    "        merge_sort(left, depth + 1)  \n",
    "        merge_sort(right, depth + 1, 'right')  \n",
    "        \n",
    "        A[:] = merge(left, right)  \n",
    "    \n",
    "        print('depth:', depth, '|', 'part:', part, '|', 'after merge:', A)"
   ]
  },
  {
   "cell_type": "markdown",
   "metadata": {},
   "source": [
    "# Двоичный поиск в отсортированном массиве (левый и правый). Оценка временной сложности алгоритма. Двоичный поиск по ответу."
   ]
  },
  {
   "cell_type": "code",
   "execution_count": null,
   "metadata": {},
   "outputs": [],
   "source": [
    "def bin_search() -> int:\n",
    "    N = int(input())\n",
    "    K = int(input())\n",
    "    A = list(map(int, input().split()))\n",
    "    for i in range(N):\n",
    "        if A[i] == K:\n",
    "            return print(i + 1)\n",
    "    return print(-1)\n",
    "\n",
    "bin_search()"
   ]
  },
  {
   "cell_type": "markdown",
   "metadata": {},
   "source": [
    "# Ханойские башни."
   ]
  },
  {
   "cell_type": "code",
   "execution_count": null,
   "metadata": {},
   "outputs": [],
   "source": [
    "def hanoy(n:int , i:int = 1, j:int = 3):\n",
    "    '''solve hanoy towers problem:\n",
    "    move N rings from branch i to branch j\n",
    "    '''\n",
    "    if n == 0: return\n",
    "    hanoy(n-1, i, 6 - i - j)\n",
    "    print(f\"Переместить кольцо с {i} на {j}\")\n",
    "    hanoy(n - 1, 6 - i - j, j)"
   ]
  },
  {
   "cell_type": "markdown",
   "metadata": {},
   "source": [
    "# Рекурсивная генерация всех чисел длины M."
   ]
  },
  {
   "cell_type": "code",
   "execution_count": null,
   "metadata": {},
   "outputs": [],
   "source": []
  },
  {
   "cell_type": "markdown",
   "metadata": {},
   "source": [
    "# Генерация всех перестановок (рекурсивная)."
   ]
  },
  {
   "cell_type": "code",
   "execution_count": null,
   "metadata": {},
   "outputs": [],
   "source": [
    "def gener_seq(A:list, n:int, pref=None):\n",
    "    '''generate all sequences from symbol in A with length n\n",
    "    '''\n",
    "    if pref is None: pref = []\n",
    "    if n == 0: \n",
    "        print(''.join(map(str, pref)))\n",
    "        return\n",
    "    for x in A:\n",
    "#        if x not in pref:   для перестановок\n",
    "        pref.append(x)\n",
    "        gener_seq(A, n-1, pref)\n",
    "        pref.pop()"
   ]
  },
  {
   "cell_type": "markdown",
   "metadata": {},
   "source": [
    "# Задача о траектории наименьшей стоимости для Кузнечика. Восстановление траектории наименьшей стоимости."
   ]
  },
  {
   "cell_type": "code",
   "execution_count": null,
   "metadata": {},
   "outputs": [],
   "source": [
    "def min_price(price:list)->list:\n",
    "    ans = [1000000, price[0]]\n",
    "    for i in range(2, len(price)+1):\n",
    "        ans.append(price[i-1] + min(ans[i-1], ans[i-2]))\n",
    "    return ans\n",
    "\n",
    "def min_path(price:list)->list:\n",
    "    min_p = min_price(price)\n",
    "    N = len(price)\n",
    "    ans = [N]\n",
    "    while N != 1:\n",
    "        if min_p[N] - price[N-1] == min_p[N-1]: N -= 1\n",
    "        else: N -= 2\n",
    "        ans.append(N)\n",
    "\n",
    "    return ans[::-1]"
   ]
  },
  {
   "cell_type": "markdown",
   "metadata": {},
   "source": [
    "# Наибольшая общая подпоследовательность."
   ]
  },
  {
   "cell_type": "code",
   "execution_count": null,
   "metadata": {},
   "outputs": [],
   "source": [
    "def gcs_len(A:list, B:list) -> list[list[int]]:\n",
    "    '''build table with lenghtes of great common sequences\n",
    "    '''\n",
    "    res = [[0] * (len(A) + 1) for _ in range((len(B)+ 1))]\n",
    "    for j in range(1, len(B)+1):\n",
    "        for i in range(1, len(A) + 1):\n",
    "            if A[i-1] == B[j-1]: \n",
    "                res[j][i] = res[j-1][i-1] + 1\n",
    "            else:\n",
    "                res[j][i] = max(res[j-1][i], res[j][i-1])\n",
    "    return res\n",
    "\n",
    "def gsc(A:list, B:list) -> list:\n",
    "    '''get great common sequence\n",
    "    '''\n",
    "    leng = gcs_len(A, B)\n",
    "    i = len(A)\n",
    "    j = len(B)\n",
    "    res = []\n",
    "    while leng[j][i] != 0:\n",
    "        if A[i-1] == B[j-1]:\n",
    "            res.append(A[i-1])\n",
    "            i -= 1\n",
    "            j -= 1\n",
    "        else:\n",
    "            if leng[j-1][i] == leng[j][i]:\n",
    "                j -= 1\n",
    "            else:\n",
    "                i -=1 \n",
    "    return res[::-1]"
   ]
  },
  {
   "cell_type": "markdown",
   "metadata": {},
   "source": [
    "# Наибольшая возрастающая подпоследовательность."
   ]
  },
  {
   "cell_type": "code",
   "execution_count": null,
   "metadata": {},
   "outputs": [],
   "source": [
    "def gis(A:list) -> list[int]:\n",
    "    res = [0] * len(A)\n",
    "    for i in range(len(A)):\n",
    "        m = 0\n",
    "        for j in range(i):\n",
    "            if res[j] > m and A[j] < A[i]:\n",
    "                m = res[j]\n",
    "        res[i] = m + 1\n",
    "    return res"
   ]
  },
  {
   "cell_type": "markdown",
   "metadata": {},
   "source": [
    "# Задача о рюкзаке\n",
    "1) предметы в одном экземпляре\n",
    "2) предметы имеют ценность и вес\n",
    "3) вес в целых числах"
   ]
  },
  {
   "cell_type": "code",
   "execution_count": null,
   "metadata": {},
   "outputs": [],
   "source": [
    "def max_backpack(w:list[int], price:list, W:int) -> list[list]:\n",
    "    '''calc table of max price in backpack\n",
    "    '''\n",
    "    res = [[0] * (W + 1) for _ in range(len(w) + 1)]\n",
    "    for i in range(1, len(w) + 1):\n",
    "        for j in range(1, W+1):\n",
    "            if w[i-1] > j:\n",
    "                res[i][j] = res[i-1][j]\n",
    "            else:\n",
    "                res[i][j] = max(res[i-1][j], price[i-1] + res[i-1][j - w[i-1]])\n",
    "    return res"
   ]
  },
  {
   "cell_type": "markdown",
   "metadata": {},
   "source": [
    "# Вычисление расстояния Левенштейна.\n",
    "Расстояние Левенштейна (редакционное расстояние, дистанция редактирования) — метрика, измеряющая по модулю разность между двумя последовательностями символов. Она определяется как минимальное количество односимвольных операций (а именно вставки, удаления, замены), необходимых для превращения одной последовательности символов в другую."
   ]
  },
  {
   "cell_type": "code",
   "execution_count": null,
   "metadata": {},
   "outputs": [],
   "source": [
    "def lev(a:str, b:str) -> list[int]:\n",
    "    A = [[i + j if i == 0 or j == 0 else 0 for j in range(len(a) + 1)] for i in range(len(b) + 1)]\n",
    "    for i in range(1, len(b) + 1):\n",
    "        for j in range(1, len(a) + 1):\n",
    "            if a[j] == b[i]:\n",
    "                A[i][j] = A[i-1][j-1]\n",
    "            else:\n",
    "                A[i][j] = min(A[i-1][j], A[i-1][j-1], A[i][j-1]) + 1\n",
    "    return A"
   ]
  },
  {
   "cell_type": "markdown",
   "metadata": {},
   "source": [
    "# Z-функция строки. Наивное вычисление и его оптимизация. Z-алгоритм. Оценка временной сложности алгоритма.\n",
    "Пусть дана строка s длины n. Тогда Z(s) - это массив длины n, i-ый элемент которого равен наибольшему числу символов, начиная с позиции i, совпадающих с первыми символами строки s.\n",
    "\n",
    "Иными словами, z[i] — это длина наибольшего общего префикса строки s и её i-го суффикса. O(n^2)\n",
    "\n",
    "Чтобы получить эффективный алгоритм, будем вычислять значения z[i] по очереди — от i=1 до n−1, и при этом постараемся при вычислении очередного значения z[i] максимально использовать уже вычисленные значения.\n",
    "\n",
    "Назовём для краткости подстроку, совпадающую с префиксом строки s, отрезком совпадения. Например, значение искомой Z-функции z[i] — это длина длиннейшего отрезок совпадения, начинающийся в позиции i (и заканчиваться он будет в позиции i+z[i]−1).\n",
    "\n",
    "Для этого будем поддерживать координаты [l;r] самого правого отрезка совпадения, т.е. из всех обнаруженных отрезков будем хранить тот, который оканчивается правее всего. В некотором смысле, индекс r — это такая граница, до которой наша строка уже была просканирована алгоритмом, а всё остальное — пока ещё не известно.\n",
    "\n",
    "Тогда если текущий индекс, для которого мы хотим посчитать очередное значение Z-функции, — это i, мы имеем один из двух вариантов:\n",
    "\n",
    "i>r — т.е. текущая позиция лежит за пределами того, что мы уже успели обработать.\n",
    "\n",
    "Тогда будем искать z[i] тривиальным алгоритмом, т.е. просто пробуя значения z[i]=0, z[i]=1, и т.д. Заметим, что в итоге, если z[i] окажется >0, то мы будем обязаны обновить координаты самого правого отрезка [l;r] — т.к. i+z[i]−1 гарантированно окажется больше r.\n",
    "\n",
    "i≤r — т.е. текущая позиция лежит внутри отрезка совпадения [l;r].\n",
    "\n",
    "Тогда мы можем использовать уже подсчитанные предыдущие значения Z-функции, чтобы проинициализировать значение z[i] не нулём, а каким-то возможно бОльшим числом.\n",
    "\n",
    "Для этого заметим, что подстроки s[l…r] и s[0…r−l] совпадают. Это означает, что в качестве начального приближения для z[i] можно взять соответствующее ему значение из отрезка s[0…r−l], а именно, значение z[i−l].\n",
    "\n",
    "Однако значение z[i−l] могло оказаться слишком большим: таким, что при применении его к позиции i оно \"вылезет\" за пределы границы r. Этого допустить нельзя, т.к. про символы правее r мы ничего не знаем, и они могут отличаться от требуемых.\n",
    "\n",
    "Приведём пример такой ситуации, на примере строки \"aaaabaa\".\n",
    "\n",
    "Когда мы дойдём до последней позиции (i=6), текущим самым правым отрезком будет [5;6]. Позиции 6 с учётом этого отрезка будет соответствовать позиция 6−5=1, ответ в которой равен z[1]=3. Очевидно, что таким значением инициализировать z[6] нельзя, оно совершенно некорректно. Максимум, каким значением мы могли проинициализировать — это 1, поскольку это наибольшее значение, которое не вылезает за пределы отрезка [l;r].\n",
    "\n",
    "Таким образом, в качестве начального приближения для z[i] безопасно брать только такое выражение:\n",
    "z0[i]=min(r−i+1,z[i−l]).\n",
    "Проинициализировав z[i] таким значением z0[i], мы снова дальше действуем тривиальным алгоритмом — потому что после границы r, вообще говоря, могло обнаружиться продолжение отрезка совпадение, предугадать которое одними лишь предыдущими значениями Z-функции мы не можем.\n",
    "\n",
    "Таким образом, весь алгоритм представляет из себя два случая, которые фактически различаются только начальным значением z[i]: в первом случае оно полагается равным нулю, а во втором — определяется по предыдущим значениям по указанной формуле. После этого обе ветки алгоритма сводятся к выполнению тривиального алгоритма, стартующего сразу с указанного начального значения."
   ]
  },
  {
   "cell_type": "code",
   "execution_count": null,
   "metadata": {},
   "outputs": [],
   "source": [
    "def z_func(s, n):\n",
    "    z = [0] * n\n",
    "    for i in range(1, n - 1):\n",
    "        while i + z[i] < n and s[z[i]] == s[i + z[i]]:\n",
    "            z[i] += 1\n",
    "    return z"
   ]
  },
  {
   "cell_type": "markdown",
   "metadata": {},
   "source": [
    "# Префикс-функция. Алгоритм Кнута-Морриса-Пратта. Оценка временной сложности алгоритма.\n",
    "Пусть дана строка s длины n. Тогда π(s) - это массив длины n, i-ый элемент которого (π[i]) определяется следующим образом: это длина наибольшего собственного суффикса подстроки s[0…i], совпадающего с её префиксом (собственный суффикс — значит не совпадающий со всей строкой). В частности, значение π[0] полагается равным нулю.\n",
    "\n",
    "Примечение: вообще говоря, в теории множеств собственным считается не пустое подмножество, не совпдающее с самим множеством. В данной статье, для простоты суффикс и префикс нулевой длины также считаются собственными."
   ]
  },
  {
   "cell_type": "code",
   "execution_count": null,
   "metadata": {},
   "outputs": [],
   "source": [
    "def prefix_func(s, n):\n",
    "    pi = [0] * n\n",
    "    for i in range(n - 1):\n",
    "        for k in range(1, i + 1):\n",
    "            equal = True\n",
    "            for j in range(k):\n",
    "                if s[j] != s[i - k  + 1 + j]:\n",
    "                    equal = False\n",
    "                    break\n",
    "            if equal:\n",
    "                pi[i] = k\n",
    "    return pi"
   ]
  },
  {
   "cell_type": "markdown",
   "metadata": {},
   "source": [
    "# Обратная Польская нотация. Вычисление выражения при помощи стека."
   ]
  },
  {
   "cell_type": "code",
   "execution_count": null,
   "metadata": {},
   "outputs": [],
   "source": [
    "def calc(data):\n",
    "    stack = []\n",
    "    for el in data:\n",
    "        if type(el) is float:\n",
    "            stack.append(el)\n",
    "        elif el == '+':\n",
    "            stack.append(stack.pop() + stack.pop())\n",
    "        elif el == '-':\n",
    "            stack.append(- stack.pop() + stack.pop())\n",
    "        elif el == '*':\n",
    "            stack.append(stack.pop() * stack.pop())\n",
    "        elif el == '/':\n",
    "            stack.append(1 / stack.pop() * stack.pop())\n",
    "        elif el == '^':\n",
    "            y = stack.pop()\n",
    "            stack[-1] **= y\n",
    "\n",
    "    return stack[0]"
   ]
  },
  {
   "cell_type": "markdown",
   "metadata": {},
   "source": [
    "# Преобразование математического выражения в обратную польскую нотацию."
   ]
  },
  {
   "cell_type": "code",
   "execution_count": null,
   "metadata": {},
   "outputs": [],
   "source": [
    "def prior(oper):\n",
    "    if oper == '(': return 0\n",
    "    if oper in '+-': return 1\n",
    "    if oper in '*/': return 2 \n",
    "    if oper in '^': return 3\n",
    "    \n",
    "def to_pol(s:str):\n",
    "    res = []\n",
    "    stack = []\n",
    "    for a in s.split():\n",
    "        if a == '(':\n",
    "            stack.append(a)\n",
    "        elif a == ')':\n",
    "            b = stack.pop()\n",
    "            while b != '(':\n",
    "                res.append(b)\n",
    "                b = stack.pop()\n",
    "        elif a in '+-*/^':\n",
    "            while len(stack) != 0 and prior(a) < prior(stack[-1]):\n",
    "                res.append(stack.pop())\n",
    "            stack.append(a)\n",
    "        else: # a is a number\n",
    "            res.append(float(a))\n",
    "    while len(stack): res.append(stack.pop())\n",
    "    return res"
   ]
  }
 ],
 "metadata": {
  "language_info": {
   "name": "python"
  }
 },
 "nbformat": 4,
 "nbformat_minor": 2
}
