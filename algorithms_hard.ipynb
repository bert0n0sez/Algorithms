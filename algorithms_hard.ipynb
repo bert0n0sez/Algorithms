{
 "cells": [
  {
   "cell_type": "markdown",
   "metadata": {},
   "source": [
    "# Решето Эратосфена. Оценка временной сложности алгоритма.\n",
    "\n",
    "Для нахождения всех простых чисел не больше заданного числа n, следуя методу Эратосфена, нужно выполнить следующие шаги:\n",
    "1) Выписать подряд все целые числа от двух до n (2, 3, 4, …, n).\n",
    "2) Пусть переменная p изначально равна двум — первому простому числу.\n",
    "3) Зачеркнуть в списке числа от 2p до n, считая шагами по p (это будут числа, кратные p: 2p, 3p, 4p, …).\n",
    "4) Найти первое незачёркнутое число в списке, большее чем p, и присвоить значению переменной p это число.\n",
    "5) Повторять шаги 3 и 4, пока возможно.\n",
    "Теперь все незачёркнутые числа в списке — это все простые числа от 2 до n.\n",
    "На практике, алгоритм можно улучшить следующим образом. На шаге № 3 числа можно зачеркивать, начиная сразу с числа p2, потому что все меньшие числа, кратные p, обязательно имеют простой делитель меньше p, и они уже будут зачеркнуты к этому времени. И, соответственно, останавливать алгоритм можно, когда p2 станет больше, чем n. Кроме того, все простые числа, кроме 2, — нечётные числа, и поэтому для них можно считать шагами по 2p, начиная с p2."
   ]
  },
  {
   "cell_type": "code",
   "execution_count": 2,
   "metadata": {},
   "outputs": [
    {
     "name": "stdout",
     "output_type": "stream",
     "text": [
      "2 3 5 7 11 13 17 19 23 29 31 37 41 43 47 53 59 61 67 71 73 79 83 89 97 "
     ]
    }
   ],
   "source": [
    "def eratosfen(N:int):                                                                \n",
    "    ''' print prime numbers from 2 to N                                                        \n",
    "    '''                                                                                 \n",
    "    A = [True] * N                                                                     \n",
    "    A[0] = A[1] = False                                                                 \n",
    "    for i in range(2, N):                                                             \n",
    "        if A[i]:                                                                      \n",
    "            for j in range(2*i, N, i):                                                  \n",
    "                A[j] = False                                                              \n",
    "    for i in range(N):                                                                \n",
    "        if A[i]: print(i, end=' ')\n",
    "\n",
    "eratosfen(100)"
   ]
  },
  {
   "cell_type": "markdown",
   "metadata": {},
   "source": [
    "# Сортировка вставками. Оценка временной сложности алгоритма.\n",
    "\n",
    "O($n^2$) -> O(n)"
   ]
  },
  {
   "cell_type": "code",
   "execution_count": 4,
   "metadata": {},
   "outputs": [
    {
     "data": {
      "text/plain": [
       "[1, 2, 3, 4, 5, 10]"
      ]
     },
     "execution_count": 4,
     "metadata": {},
     "output_type": "execute_result"
    }
   ],
   "source": [
    "def insert_sort(A: list):\n",
    "    '''sorting A using insert sort alg'''\n",
    "    for i in range(1, len(A)):\n",
    "        while i > 0 and A[i] < A[i-1]:\n",
    "            A[i], A[i-1] = A[i-1], A[i]\n",
    "            i -= 1\n",
    "    return A\n",
    "\n",
    "insert_sort([10, 5, 4, 3, 2, 1])"
   ]
  },
  {
   "cell_type": "markdown",
   "metadata": {},
   "source": [
    "# Сортировка выбором. Оценка временной сложности алгоритма.\n",
    "\n",
    "O($n^2$)"
   ]
  },
  {
   "cell_type": "code",
   "execution_count": 5,
   "metadata": {},
   "outputs": [
    {
     "data": {
      "text/plain": [
       "[1, 2, 3, 4, 5, 10]"
      ]
     },
     "execution_count": 5,
     "metadata": {},
     "output_type": "execute_result"
    }
   ],
   "source": [
    "def selection_sort(A: list):\n",
    "    '''sorting A using selected sort alg (2nd var)\n",
    "    '''\n",
    "    for i in range(len(A) - 1):\n",
    "        for j in range(i + 1, len(A)):\n",
    "            if A[i] > A[j]:\n",
    "                A[i], A[j] = A[j], A[i]\n",
    "    return A\n",
    "\n",
    "selection_sort([10, 5, 4, 3, 2, 1])"
   ]
  },
  {
   "cell_type": "markdown",
   "metadata": {},
   "source": [
    "# Сортировка методом пузырька. Оценка временной сложности алгоритма.\n",
    "\n",
    "O($n$) -> O($n^2$)"
   ]
  },
  {
   "cell_type": "code",
   "execution_count": 6,
   "metadata": {},
   "outputs": [
    {
     "data": {
      "text/plain": [
       "[1, 2, 3, 4, 5, 10]"
      ]
     },
     "execution_count": 6,
     "metadata": {},
     "output_type": "execute_result"
    }
   ],
   "source": [
    "def bubble_sort(A: list):\n",
    "    '''sorting A using bubble sort alg\n",
    "    '''\n",
    "    for i in range(len(A) - 1, 0, -1):\n",
    "        for j in range(i):\n",
    "            if A[j] > A[j + 1]:\n",
    "                A[j], A[j + 1] = A[j + 1], A[j]\n",
    "    return A\n",
    "\n",
    "bubble_sort([10, 5, 4, 3, 2, 1])"
   ]
  },
  {
   "cell_type": "markdown",
   "metadata": {},
   "source": [
    "# Поразрядная сортировка. Оценка временной сложности алгоритма.\n",
    "\n",
    "O(n $\\cdot$ m), где n - количество ключей в исходном массиве, а m - их длина. "
   ]
  },
  {
   "cell_type": "code",
   "execution_count": null,
   "metadata": {},
   "outputs": [],
   "source": [
    "def radix_sort(A: list):\n",
    "    '''sorting A using radix sort alg\n",
    "    '''\n",
    "    for i in range(4):\n",
    "        lists = [[] for _ in range(10)]\n",
    "        for a in A:\n",
    "            lists[(a // 10**i) % 10].append(a)\n",
    "        A.clear()\n",
    "        for lst in lists:\n",
    "            for x in lst:\n",
    "                A.append(x)\n",
    "    return A\n",
    "\n",
    "from random import randint\n",
    "A=[]\n",
    "for i in range(25):\n",
    "    A.append(randint(1, 1000))\n",
    "\n",
    "radix_sort(A)"
   ]
  },
  {
   "cell_type": "markdown",
   "metadata": {},
   "source": [
    "# Быстрая сортировка Хоара. Временная сложность алгоритма (без док-ва).\n",
    "\n",
    "Общая идея алгоритма состоит в следующем:\n",
    "\n",
    "1) Выбрать из массива элемент, называемый опорным. Это может быть любой из элементов массива. От выбора опорного элемента не зависит корректность алгоритма, но в отдельных случаях может сильно зависеть его эффективность.\n",
    "\n",
    "2) Сравнить все остальные элементы с опорным и переставить их в массиве так, чтобы разбить массив на три непрерывных отрезка, следующих друг за другом: «элементы меньшие опорного», «равные» и «большие».\n",
    "\n",
    "3) Для отрезков «меньших» и «больших» значений выполнить рекурсивно ту же последовательность операций, если длина отрезка больше единицы.\n",
    "\n",
    "В среднем случае О(n $\\cdot$ log(n))"
   ]
  },
  {
   "cell_type": "code",
   "execution_count": 12,
   "metadata": {},
   "outputs": [
    {
     "name": "stdout",
     "output_type": "stream",
     "text": [
      "depth: 1 part: left array before: [10, 5, 6, 7, 3, 1, 2]\n",
      "depth: 2 part: left array before: [5, 6, 7, 3, 1, 2]\n",
      "depth: 3 part: left array before: [3, 1, 2]\n",
      "depth: 4 part: left array before: [1, 2]\n",
      "depth: 5 part: left array before: []\n",
      "depth: 5 part: right array before: [2]\n",
      "depth: 4 part: left array after: [1, 2]\n",
      "depth: 4 part: right array before: []\n",
      "depth: 3 part: left array after: [1, 2, 3]\n",
      "depth: 3 part: right array before: [6, 7]\n",
      "depth: 4 part: left array before: []\n",
      "depth: 4 part: right array before: [7]\n",
      "depth: 3 part: right array after: [6, 7]\n",
      "depth: 2 part: left array after: [1, 2, 3, 5, 6, 7]\n",
      "depth: 2 part: right array before: []\n",
      "depth: 1 part: left array after: [1, 2, 3, 5, 6, 7, 10]\n"
     ]
    }
   ],
   "source": [
    "def hoar_sort(A, depth=1, part='left'):\n",
    "    #print('depth:', depth, 'part:', part, 'array before:', A)\n",
    "    if len(A) > 1:\n",
    "        barrier = A[0]\n",
    "        left = []\n",
    "        middle = []  \n",
    "        right = []\n",
    "        for num in A:  \n",
    "            if num < barrier:\n",
    "                left.append(num)\n",
    "            elif num == barrier:\n",
    "                middle.append(num)\n",
    "            else:\n",
    "                right.append(num)  \n",
    "        hoar_sort(left, depth + 1)\n",
    "        hoar_sort(right, depth + 1, part= 'right')\n",
    "        k = 0  \n",
    "        for x in left + middle + right:\n",
    "            A[k] = x\n",
    "            k += 1\n",
    "        #print('depth:', depth, 'part:', part, 'array after:', A)\n",
    "\n",
    "hoar_sort([10, 5, 6, 7, 3, 1, 2])"
   ]
  },
  {
   "cell_type": "markdown",
   "metadata": {},
   "source": [
    "# Сортировка слиянием. Оценка временной сложности алгоритма.\n",
    "\n",
    "Для решения задачи сортировки эти три этапа выглядят так:\n",
    "\n",
    "1) Сортируемый массив разбивается на две части примерно одинакового размера;\n",
    "2) Каждая из получившихся частей сортируется отдельно, например — тем же самым алгоритмом;\n",
    "3) Два упорядоченных массива половинного размера соединяются в один.\n",
    "\n",
    "1.1. — 2.1. Рекурсивное разбиение задачи на меньшие происходит до тех пор, пока размер массива не достигнет единицы (любой массив длины 1 можно считать упорядоченным).\n",
    "\n",
    "3.1. Соединение двух упорядоченных массивов в один.\n",
    "Основную идею слияния двух отсортированных массивов можно объяснить на следующем примере. Пусть мы имеем два уже отсортированных по возрастанию подмассива. Тогда:\n",
    "\n",
    "3.2. Слияние двух подмассивов в третий результирующий массив.\n",
    "На каждом шаге мы берём меньший из двух первых элементов подмассивов и записываем его в результирующий массив. Счётчики номеров элементов результирующего массива и подмассива, из которого был взят элемент, увеличиваем на 1.\n",
    "3.3. «Прицепление» остатка.\n",
    "\n",
    "Когда один из подмассивов закончился, мы добавляем все оставшиеся элементы второго подмассива в результирующий массив.\n",
    "\n",
    "O(n $\\cdot$ log(n))"
   ]
  },
  {
   "cell_type": "code",
   "execution_count": 13,
   "metadata": {},
   "outputs": [
    {
     "name": "stdout",
     "output_type": "stream",
     "text": [
      "depth: 1 | part: left | array: [10, 5, 6, 7, 3, 1, 2]\n",
      "depth: 2 | part: left | array: [10, 5, 6]\n",
      "depth: 3 | part: left | array: [10]\n",
      "depth: 3 | part: right | array: [5, 6]\n",
      "depth: 4 | part: left | array: [5]\n",
      "depth: 4 | part: right | array: [6]\n",
      "depth: 3 | part: right | after merge: [5, 6]\n",
      "depth: 2 | part: left | after merge: [5, 6, 10]\n",
      "depth: 2 | part: right | array: [7, 3, 1, 2]\n",
      "depth: 3 | part: left | array: [7, 3]\n",
      "depth: 4 | part: left | array: [7]\n",
      "depth: 4 | part: right | array: [3]\n",
      "depth: 3 | part: left | after merge: [3, 7]\n",
      "depth: 3 | part: right | array: [1, 2]\n",
      "depth: 4 | part: left | array: [1]\n",
      "depth: 4 | part: right | array: [2]\n",
      "depth: 3 | part: right | after merge: [1, 2]\n",
      "depth: 2 | part: right | after merge: [1, 2, 3, 7]\n",
      "depth: 1 | part: left | after merge: [1, 2, 3, 5, 6, 7, 10]\n"
     ]
    }
   ],
   "source": [
    "def merge(L:list, R:list)->list:\n",
    "    C = [0] * (len(L) + len(R))  \n",
    "    l, r, c = 0, 0, 0 \n",
    "\n",
    "    while l != len(L) and r != len(R): \n",
    "        if L[l] <= R[r]:                           \n",
    "                C[c] = L[l]\n",
    "                l += 1\n",
    "                c += 1\n",
    "        elif R[r] <= L[l]:\n",
    "                C[c] = R[r]\n",
    "                r += 1\n",
    "                c += 1\n",
    "\n",
    "    if l != len(L): \n",
    "        while c != len(C):\n",
    "            C[c] = L[l]\n",
    "            c += 1\n",
    "            l += 1\n",
    "            \n",
    "    elif r != len(R):\n",
    "        while c != len(C):\n",
    "            C[c] = R[r]\n",
    "            c += 1\n",
    "            r += 1    \n",
    "            \n",
    "    return C\n",
    "\n",
    "def merge_sort(A, depth=1, part='left'):\n",
    "    #print('depth:', depth, '|', 'part:', part, '|', 'array:', A)   \n",
    "    if len(A) > 1: \n",
    "        left = A[: len(A) // 2]\n",
    "        right = A[len(A) // 2 :]\n",
    "        \n",
    "        merge_sort(left, depth + 1)  \n",
    "        merge_sort(right, depth + 1, 'right')  \n",
    "        \n",
    "        A[:] = merge(left, right)  \n",
    "        #print('depth:', depth, '|', 'part:', part, '|', 'after merge:', A)\n",
    "\n",
    "merge_sort([10, 5, 6, 7, 3, 1, 2])"
   ]
  },
  {
   "cell_type": "markdown",
   "metadata": {},
   "source": [
    "# Двоичный поиск в отсортированном массиве (левый и правый). Оценка временной сложности алгоритма. Двоичный поиск по ответу.\n",
    "\n",
    "Двоичный поиск заключается в том, что на каждом шаге множество объектов делится на две части и в работе остаётся та часть множества, где находится искомый объект. Или же, в зависимости от постановки задачи, мы можем остановить процесс, когда мы получим первый или же последний индекс вхождения элемента. Последнее условие — это левосторонний/правосторонний двоичный поиск.\n",
    "\n",
    "Правосторонний бинарный поиск — бинарный поиск, с помощью которого мы ищем maxi∈[−1,n−1]{i∣a[i]⩽x}, где a — массив, а x — искомый ключ\n",
    "\n",
    "Левосторонний бинарный поиск (англ. leftside binary search) — бинарный поиск, с помощью которого мы ищем mini∈[0,n]{i∣a[i]⩾x}, где a — массив, а x — искомый ключ\n",
    "\n",
    "Использовав эти два вида двоичного поиска, мы можем найти отрезок позиций [l,r] таких, что ∀i∈[l,r]:a[i]=x и ∀i∉[l,r]:a[i]≠x\n",
    "\n",
    "## Алгоритм двоичного поиска\n",
    "Идея поиска заключается в том, чтобы брать элемент посередине, между границами, и сравнивать его с искомым. Если искомое больше(в случае правостороннего — не меньше), чем элемент сравнения, то сужаем область поиска так, чтобы новая левая граница была равна индексу середины предыдущей области. В противном случае присваиваем это значение правой границе. Проделываем эту процедуру до тех пор, пока правая граница больше левой более чем на 1.\n",
    "\n",
    "O(1) -> O(log(n))"
   ]
  },
  {
   "cell_type": "code",
   "execution_count": 25,
   "metadata": {},
   "outputs": [
    {
     "data": {
      "text/plain": [
       "4"
      ]
     },
     "execution_count": 25,
     "metadata": {},
     "output_type": "execute_result"
    }
   ],
   "source": [
    "def bin_search(a:list, key:int):   # Запускаем бинарный поиск\n",
    "    l = -1                      # l, r — левая и правая границы\n",
    "    r = len(a)    \n",
    "    while l <= r - 1:                # Запускаем цикл\n",
    "        m = l + (r - l) // 2          # m — середина области поиска\n",
    "        if a[m] < key:\n",
    "            l = m\n",
    "        elif a[m] == key:\n",
    "            return m\n",
    "        else: \n",
    "            r = m                  # Сужение границ\n",
    "    return r\n",
    "\n",
    "bin_search([1, 2, 3, 4, 6, 7, 8, 9, 10], 5)"
   ]
  },
  {
   "cell_type": "markdown",
   "metadata": {},
   "source": [
    "# Ханойские башни."
   ]
  },
  {
   "cell_type": "code",
   "execution_count": 26,
   "metadata": {},
   "outputs": [
    {
     "name": "stdout",
     "output_type": "stream",
     "text": [
      "Переместить кольцо с 1 на 3\n",
      "Переместить кольцо с 1 на 2\n",
      "Переместить кольцо с 3 на 2\n",
      "Переместить кольцо с 1 на 3\n",
      "Переместить кольцо с 2 на 1\n",
      "Переместить кольцо с 2 на 3\n",
      "Переместить кольцо с 1 на 3\n"
     ]
    }
   ],
   "source": [
    "def hanoy(n:int , i:int = 1, j:int = 3):\n",
    "    '''solve hanoy towers problem:\n",
    "    move N rings from branch i to branch j\n",
    "    '''\n",
    "    if n == 0: return\n",
    "    hanoy(n-1, i, 6 - i - j)\n",
    "    print(f\"Переместить кольцо с {i} на {j}\")\n",
    "    hanoy(n - 1, 6 - i - j, j)\n",
    "\n",
    "hanoy(3)"
   ]
  },
  {
   "cell_type": "markdown",
   "metadata": {},
   "source": [
    "# Рекурсивная генерация всех чисел длины M."
   ]
  },
  {
   "cell_type": "code",
   "execution_count": null,
   "metadata": {},
   "outputs": [],
   "source": [
    "def generate_numbers(N:int, M:int, prefix = None): \n",
    "    \"\"\" Генерирует все числа (с лидирующими незначащими нулями) \n",
    "        в N-ричной системе счисления (N <= 10) длины M\n",
    "    \"\"\"\n",
    "    prefix = prefix or [] \n",
    "    if M == 0:\n",
    "        print(*prefix, sep='')\n",
    "        return\n",
    "    for digit in range(N):\n",
    "        prefix.append(digit)\n",
    "        generate_numbers(N, M - 1, prefix)\n",
    "        prefix.pop()\n",
    "\n",
    "\"\"\"\n",
    "Отличие от рекурсивного обычного исполнения в том, что мы вызываем рекурсию в цикле.\n",
    "\"\"\"\n",
    "\n",
    "\"\"\"\n",
    "Более простой вариант без цикла (только для двоичной системы исчисления):\n",
    "\"\"\"\n",
    "def gen_bin(M, prefix=''):\n",
    "    if M == 0:\n",
    "        print(prefix)\n",
    "        return\n",
    "    gen_bin(M - 1, prefix + '0')\n",
    "    gen_bin(M - 1, prefix + '1')\n",
    "\n",
    "generate_numbers(10, 3)"
   ]
  },
  {
   "cell_type": "markdown",
   "metadata": {},
   "source": [
    "# Генерация всех перестановок (рекурсивная)."
   ]
  },
  {
   "cell_type": "code",
   "execution_count": null,
   "metadata": {},
   "outputs": [],
   "source": [
    "def gener_seq(A:list, n:int, pref=None):\n",
    "    '''generate all sequences from symbol in A with length n\n",
    "    '''\n",
    "    if pref is None: pref = []\n",
    "    if n == 0: \n",
    "        print(''.join(map(str, pref)))\n",
    "        return\n",
    "    for x in A: #if x not in pref:   для перестановок\n",
    "        pref.append(x)\n",
    "        gener_seq(A, n-1, pref)\n",
    "        pref.pop()\n",
    "\n",
    "gener_seq([1, 2, 3, 4, 5, 6, 7, 8, 9, 10], 3)"
   ]
  },
  {
   "cell_type": "markdown",
   "metadata": {},
   "source": [
    "# Задача о траектории наименьшей стоимости для Кузнечика. Восстановление траектории наименьшей стоимости."
   ]
  },
  {
   "cell_type": "code",
   "execution_count": 33,
   "metadata": {},
   "outputs": [
    {
     "data": {
      "text/plain": [
       "[1, 2, 4, 6, 8, 10, 12]"
      ]
     },
     "execution_count": 33,
     "metadata": {},
     "output_type": "execute_result"
    }
   ],
   "source": [
    "def min_price(price:list)->list:\n",
    "    ans = [1000000, price[0]]\n",
    "    for i in range(2, len(price)+1):\n",
    "        ans.append(price[i-1] + min(ans[i-1], ans[i-2]))\n",
    "    return ans\n",
    "\n",
    "def min_path(price:list)->list:\n",
    "    min_p = min_price(price)\n",
    "    N = len(price)\n",
    "    ans = [N]\n",
    "    while N != 1:\n",
    "        if min_p[N] - price[N-1] == min_p[N-1]: N -= 1\n",
    "        else: N -= 2\n",
    "        ans.append(N)\n",
    "\n",
    "    return ans[::-1]\n",
    "\n",
    "min_price([0, 1, 2, 3, 4, 5, 6, 7, 8, 9, 1000, 99])\n",
    "min_path([0, 1, 2, 3, 4, 5, 6, 7, 8, 9, 1000, 99])"
   ]
  },
  {
   "cell_type": "markdown",
   "metadata": {},
   "source": [
    "# Наибольшая общая подпоследовательность."
   ]
  },
  {
   "cell_type": "code",
   "execution_count": 34,
   "metadata": {},
   "outputs": [
    {
     "name": "stdout",
     "output_type": "stream",
     "text": [
      "    a b c d e f j h s ; g b k s s b\n",
      "  0 0 0 0 0 0 0 0 0 0 0 0 0 0 0 0 0\n",
      "s 0 0 0 0 0 0 0 0 0 1 1 1 1 1 1 1 1\n",
      "o 0 0 0 0 0 0 0 0 0 1 1 1 1 1 1 1 1\n",
      "j 0 0 0 0 0 0 0 1 1 1 1 1 1 1 1 1 1\n",
      "g 0 0 0 0 0 0 0 1 1 1 1 2 2 2 2 2 2\n",
      "n 0 0 0 0 0 0 0 1 1 1 1 2 2 2 2 2 2\n",
      "l 0 0 0 0 0 0 0 1 1 1 1 2 2 2 2 2 2\n",
      "d 0 0 0 0 1 1 1 1 1 1 1 2 2 2 2 2 2\n",
      "j 0 0 0 0 1 1 1 2 2 2 2 2 2 2 2 2 2\n",
      "g 0 0 0 0 1 1 1 2 2 2 2 3 3 3 3 3 3\n",
      "n 0 0 0 0 1 1 1 2 2 2 2 3 3 3 3 3 3\n",
      "a 0 1 1 1 1 1 1 2 2 2 2 3 3 3 3 3 3\n",
      "; 0 1 1 1 1 1 1 2 2 2 3 3 3 3 3 3 3\n",
      "g 0 1 1 1 1 1 1 2 2 2 3 4 4 4 4 4 4\n",
      "f 0 1 1 1 1 1 2 2 2 2 3 4 4 4 4 4 4\n",
      "n 0 1 1 1 1 1 2 2 2 2 3 4 4 4 4 4 4\n",
      "a 0 1 1 1 1 1 2 2 2 2 3 4 4 4 4 4 4\n",
      "['d', 'j', ';', 'g']\n"
     ]
    }
   ],
   "source": [
    "def gcs_len(A:list, B:list) -> list[list[int]]:\n",
    "    '''build table with lenghtes of great common sequences\n",
    "    '''\n",
    "    res = [[0] * (len(A) + 1) for _ in range((len(B) + 1))]\n",
    "    for j in range(1, len(B) + 1):\n",
    "        for i in range(1, len(A) + 1):\n",
    "            if A[i-1] == B[j-1]: \n",
    "                res[j][i] = res[j-1][i-1] + 1\n",
    "            else:\n",
    "                res[j][i] = max(res[j-1][i], res[j][i-1])\n",
    "    return res\n",
    "\n",
    "def gsc(A:list, B:list) -> list:\n",
    "    '''get great common sequence\n",
    "    '''\n",
    "    leng = gcs_len(A, B)\n",
    "    i = len(A)\n",
    "    j = len(B)\n",
    "    res = []\n",
    "    while leng[j][i] != 0:\n",
    "        if A[i-1] == B[j-1]:\n",
    "            res.append(A[i-1])\n",
    "            i -= 1\n",
    "            j -= 1\n",
    "        else:\n",
    "            if leng[j-1][i] == leng[j][i]:\n",
    "                j -= 1\n",
    "            else:\n",
    "                i -=1 \n",
    "    return res[::-1]\n",
    "\n",
    "a = 'abcdefjhs;gbkssb'\n",
    "b = 'sojgnldjgna;gfna'\n",
    "res = gcs_len(a, b)\n",
    "print('   ', *a)\n",
    "tmp = iter(enumerate(res))\n",
    "print(' ', *next(tmp)[1])\n",
    "for i, l in tmp:\n",
    "    print(b[i-1], *l)\n",
    "\n",
    "print(gsc(a, b))"
   ]
  },
  {
   "cell_type": "markdown",
   "metadata": {},
   "source": [
    "# Наибольшая возрастающая подпоследовательность."
   ]
  },
  {
   "cell_type": "code",
   "execution_count": null,
   "metadata": {},
   "outputs": [],
   "source": [
    "def gis(A:list) -> list[int]:\n",
    "    res = [0] * len(A)\n",
    "    for i in range(len(A)):\n",
    "        m = 0\n",
    "        for j in range(i):\n",
    "            if res[j] > m and A[j] < A[i]:\n",
    "                m = res[j]\n",
    "        res[i] = m + 1\n",
    "    return res\n",
    "\n",
    "from random import randint\n",
    "A = [randint(1, 20) for _ in range(10)]\n",
    "print(*A)\n",
    "print(gis(A))   "
   ]
  },
  {
   "cell_type": "markdown",
   "metadata": {},
   "source": [
    "# Задача о рюкзаке\n",
    "1) предметы в одном экземпляре\n",
    "2) предметы имеют ценность и вес\n",
    "3) вес в целых числах"
   ]
  },
  {
   "cell_type": "code",
   "execution_count": 35,
   "metadata": {},
   "outputs": [
    {
     "name": "stdout",
     "output_type": "stream",
     "text": [
      "    00  01  02  03  04  05  06  07  08  09  10  11  12  13  14  15  16  17  18  19  20\n",
      "5 5 00  00  00  00  00  05  05  05  05  05  05  05  05  05  05  05  05  05  05  05  05\n",
      "1 3 00  00  00  01  01  05  05  05  06  06  06  06  06  06  06  06  06  06  06  06  06\n",
      "3 6 00  00  00  01  01  05  05  05  06  06  06  08  08  08  09  09  09  09  09  09  09\n",
      "1 8 00  00  00  01  01  05  05  05  06  06  06  08  08  08  09  09  09  09  09  09  09\n",
      "3 7 00  00  00  01  01  05  05  05  06  06  06  08  08  08  09  09  09  09  11  11  11\n",
      "8 4 00  00  00  01  08  08  08  09  09  13  13  13  14  14  14  16  16  16  17  17  17\n",
      "1 3 00  00  00  01  08  08  08  09  09  13  13  13  14  14  14  16  16  16  17  17  17\n",
      "5 4 00  00  00  01  08  08  08  09  13  13  13  14  14  18  18  18  19  19  19  21  21\n",
      "7 1 00  07  07  07  08  15  15  15  16  20  20  20  21  21  25  25  25  26  26  26  28\n",
      "7 8 00  07  07  07  08  15  15  15  16  20  20  20  21  22  25  25  25  27  27  27  28\n"
     ]
    }
   ],
   "source": [
    "def max_backpack(w:list[int], price:list, W:int) -> list[list]:\n",
    "    '''calc table of max price in backpack\n",
    "    '''\n",
    "    res = [[0] * (W + 1) for _ in range(len(w) + 1)]\n",
    "    for i in range(1, len(w) + 1):\n",
    "        for j in range(1, W + 1):\n",
    "            if w[i-1] > j:\n",
    "                res[i][j] = res[i-1][j]\n",
    "            else:\n",
    "                res[i][j] = max(res[i-1][j], price[i-1] + res[i-1][j - w[i-1]])\n",
    "    return res\n",
    "\n",
    "from random import randint\n",
    "N = 10\n",
    "w = [randint(1, 9) for _ in range(N)]\n",
    "p = [randint(1, 9) for _ in range(N)]\n",
    "r = max_backpack(w, p, 20)\n",
    "print('   ', '  '.join(map(lambda x:f'{x:02}', range(21))))\n",
    "for i in range(N):\n",
    "    print(p[i], w[i], '  '.join(map(lambda x:f'{x:02}',r[i+1])))"
   ]
  },
  {
   "cell_type": "markdown",
   "metadata": {},
   "source": [
    "# Вычисление расстояния Левенштейна.\n",
    "Расстояние Левенштейна (редакционное расстояние, дистанция редактирования) — метрика, измеряющая по модулю разность между двумя последовательностями символов. Она определяется как минимальное количество односимвольных операций (а именно вставки, удаления, замены), необходимых для превращения одной последовательности символов в другую."
   ]
  },
  {
   "cell_type": "code",
   "execution_count": 39,
   "metadata": {},
   "outputs": [
    {
     "name": "stdout",
     "output_type": "stream",
     "text": [
      "3\n"
     ]
    }
   ],
   "source": [
    "def lev(a: str, b: str) -> int:\n",
    "    # Создаем матрицу для хранения расстояний\n",
    "    A = [[0 for _ in range(len(a) + 1)] for _ in range(len(b) + 1)]\n",
    "    \n",
    "    # Инициализируем первую строку и первый столбец\n",
    "    for i in range(len(b) + 1):\n",
    "        A[i][0] = i  # Расстояние от пустой строки до b\n",
    "    for j in range(len(a) + 1):\n",
    "        A[0][j] = j  # Расстояние от пустой строки до a\n",
    "\n",
    "    # Заполняем матрицу\n",
    "    for i in range(1, len(b) + 1):\n",
    "        for j in range(1, len(a) + 1):\n",
    "            if a[j - 1] == b[i - 1]:  # Сравниваем символы (индексы на 1 меньше)\n",
    "                A[i][j] = A[i - 1][j - 1]  # Если символы равны, берем значение по диагонали\n",
    "            else:\n",
    "                A[i][j] = min(A[i - 1][j] + 1,    # Удаление\n",
    "                               A[i][j - 1] + 1,    # Вставка\n",
    "                               A[i - 1][j - 1] + 1)  # Замена\n",
    "\n",
    "    return A[len(b)][len(a)]  # Возвращаем расстояние Левенштейна\n",
    "\n",
    "a = \"kitten\"\n",
    "b = \"sitting\"\n",
    "lev(a, b)"
   ]
  },
  {
   "cell_type": "markdown",
   "metadata": {},
   "source": [
    "# Z-функция строки. Наивное вычисление и его оптимизация. Z-алгоритм. Оценка временной сложности алгоритма.\n",
    "Пусть дана строка s длины n. Тогда Z(s) - это массив длины n, i-ый элемент которого равен наибольшему числу символов, начиная с позиции i, совпадающих с первыми символами строки s.\n",
    "\n",
    "Иными словами, z[i] — это длина наибольшего общего префикса строки s и её i-го суффикса. O(n^2)\n",
    "\n",
    "Чтобы получить эффективный алгоритм, будем вычислять значения z[i] по очереди — от i=1 до n−1, и при этом постараемся при вычислении очередного значения z[i] максимально использовать уже вычисленные значения.\n",
    "\n",
    "Назовём для краткости подстроку, совпадающую с префиксом строки s, отрезком совпадения. Например, значение искомой Z-функции z[i] — это длина длиннейшего отрезок совпадения, начинающийся в позиции i (и заканчиваться он будет в позиции i+z[i]−1).\n",
    "\n",
    "Для этого будем поддерживать координаты [l;r] самого правого отрезка совпадения, т.е. из всех обнаруженных отрезков будем хранить тот, который оканчивается правее всего. В некотором смысле, индекс r — это такая граница, до которой наша строка уже была просканирована алгоритмом, а всё остальное — пока ещё не известно.\n",
    "\n",
    "Тогда если текущий индекс, для которого мы хотим посчитать очередное значение Z-функции, — это i, мы имеем один из двух вариантов:\n",
    "\n",
    "i>r — т.е. текущая позиция лежит за пределами того, что мы уже успели обработать.\n",
    "\n",
    "Тогда будем искать z[i] тривиальным алгоритмом, т.е. просто пробуя значения z[i]=0, z[i]=1, и т.д. Заметим, что в итоге, если z[i] окажется >0, то мы будем обязаны обновить координаты самого правого отрезка [l;r] — т.к. i+z[i]−1 гарантированно окажется больше r.\n",
    "\n",
    "i≤r — т.е. текущая позиция лежит внутри отрезка совпадения [l;r].\n",
    "\n",
    "Тогда мы можем использовать уже подсчитанные предыдущие значения Z-функции, чтобы проинициализировать значение z[i] не нулём, а каким-то возможно бОльшим числом.\n",
    "\n",
    "Для этого заметим, что подстроки s[l…r] и s[0…r−l] совпадают. Это означает, что в качестве начального приближения для z[i] можно взять соответствующее ему значение из отрезка s[0…r−l], а именно, значение z[i−l].\n",
    "\n",
    "Однако значение z[i−l] могло оказаться слишком большим: таким, что при применении его к позиции i оно \"вылезет\" за пределы границы r. Этого допустить нельзя, т.к. про символы правее r мы ничего не знаем, и они могут отличаться от требуемых.\n",
    "\n",
    "Приведём пример такой ситуации, на примере строки \"aaaabaa\".\n",
    "\n",
    "Когда мы дойдём до последней позиции (i=6), текущим самым правым отрезком будет [5;6]. Позиции 6 с учётом этого отрезка будет соответствовать позиция 6−5=1, ответ в которой равен z[1]=3. Очевидно, что таким значением инициализировать z[6] нельзя, оно совершенно некорректно. Максимум, каким значением мы могли проинициализировать — это 1, поскольку это наибольшее значение, которое не вылезает за пределы отрезка [l;r].\n",
    "\n",
    "Таким образом, в качестве начального приближения для z[i] безопасно брать только такое выражение:\n",
    "z0[i]=min(r−i+1,z[i−l]).\n",
    "Проинициализировав z[i] таким значением z0[i], мы снова дальше действуем тривиальным алгоритмом — потому что после границы r, вообще говоря, могло обнаружиться продолжение отрезка совпадение, предугадать которое одними лишь предыдущими значениями Z-функции мы не можем.\n",
    "\n",
    "Таким образом, весь алгоритм представляет из себя два случая, которые фактически различаются только начальным значением z[i]: в первом случае оно полагается равным нулю, а во втором — определяется по предыдущим значениям по указанной формуле. После этого обе ветки алгоритма сводятся к выполнению тривиального алгоритма, стартующего сразу с указанного начального значения."
   ]
  },
  {
   "cell_type": "code",
   "execution_count": null,
   "metadata": {},
   "outputs": [],
   "source": [
    "def z_func(s, n):\n",
    "    z = [0] * n\n",
    "    for i in range(1, n - 1):\n",
    "        while i + z[i] < n and s[z[i]] == s[i + z[i]]:\n",
    "            z[i] += 1\n",
    "    return z"
   ]
  },
  {
   "cell_type": "markdown",
   "metadata": {},
   "source": [
    "# Префикс-функция. Алгоритм Кнута-Морриса-Пратта. Оценка временной сложности алгоритма.\n",
    "Пусть дана строка s длины n. Тогда π(s) - это массив длины n, i-ый элемент которого (π[i]) определяется следующим образом: это длина наибольшего собственного суффикса подстроки s[0…i], совпадающего с её префиксом (собственный суффикс — значит не совпадающий со всей строкой). В частности, значение π[0] полагается равным нулю.\n",
    "\n",
    "Примечение: вообще говоря, в теории множеств собственным считается не пустое подмножество, не совпдающее с самим множеством. В данной статье, для простоты суффикс и префикс нулевой длины также считаются собственными."
   ]
  },
  {
   "cell_type": "code",
   "execution_count": null,
   "metadata": {},
   "outputs": [],
   "source": [
    "def prefix_func(s, n):\n",
    "    pi = [0] * n\n",
    "    for i in range(n - 1):\n",
    "        for k in range(1, i + 1):\n",
    "            equal = True\n",
    "            for j in range(k):\n",
    "                if s[j] != s[i - k  + 1 + j]:\n",
    "                    equal = False\n",
    "                    break\n",
    "            if equal:\n",
    "                pi[i] = k\n",
    "    return pi"
   ]
  },
  {
   "cell_type": "markdown",
   "metadata": {},
   "source": [
    "# Обратная Польская нотация. Вычисление выражения при помощи стека."
   ]
  },
  {
   "cell_type": "code",
   "execution_count": null,
   "metadata": {},
   "outputs": [],
   "source": [
    "def calc(data):\n",
    "    stack = []\n",
    "    for el in data:\n",
    "        if type(el) is float:\n",
    "            stack.append(el)\n",
    "        elif el == '+':\n",
    "            stack.append(stack.pop() + stack.pop())\n",
    "        elif el == '-':\n",
    "            stack.append(- stack.pop() + stack.pop())\n",
    "        elif el == '*':\n",
    "            stack.append(stack.pop() * stack.pop())\n",
    "        elif el == '/':\n",
    "            stack.append(1 / stack.pop() * stack.pop())\n",
    "        elif el == '^':\n",
    "            y = stack.pop()\n",
    "            stack[-1] **= y\n",
    "\n",
    "    return stack[0]"
   ]
  },
  {
   "cell_type": "markdown",
   "metadata": {},
   "source": [
    "# Преобразование математического выражения в обратную польскую нотацию."
   ]
  },
  {
   "cell_type": "code",
   "execution_count": null,
   "metadata": {},
   "outputs": [],
   "source": [
    "def prior(oper):\n",
    "    if oper == '(': return 0\n",
    "    if oper in '+-': return 1\n",
    "    if oper in '*/': return 2 \n",
    "    if oper in '^': return 3\n",
    "    \n",
    "def to_pol(s:str):\n",
    "    res = []\n",
    "    stack = []\n",
    "    for a in s.split():\n",
    "        if a == '(':\n",
    "            stack.append(a)\n",
    "        elif a == ')':\n",
    "            b = stack.pop()\n",
    "            while b != '(':\n",
    "                res.append(b)\n",
    "                b = stack.pop()\n",
    "        elif a in '+-*/^':\n",
    "            while len(stack) != 0 and prior(a) < prior(stack[-1]):\n",
    "                res.append(stack.pop())\n",
    "            stack.append(a)\n",
    "        else: # a is a number\n",
    "            res.append(float(a))\n",
    "    while len(stack): res.append(stack.pop())\n",
    "    return res"
   ]
  },
  {
   "cell_type": "code",
   "execution_count": 41,
   "metadata": {},
   "outputs": [
    {
     "name": "stdout",
     "output_type": "stream",
     "text": [
      "35280\n"
     ]
    }
   ],
   "source": []
  }
 ],
 "metadata": {
  "kernelspec": {
   "display_name": "Python 3",
   "language": "python",
   "name": "python3"
  },
  "language_info": {
   "codemirror_mode": {
    "name": "ipython",
    "version": 3
   },
   "file_extension": ".py",
   "mimetype": "text/x-python",
   "name": "python",
   "nbconvert_exporter": "python",
   "pygments_lexer": "ipython3",
   "version": "3.11.5"
  }
 },
 "nbformat": 4,
 "nbformat_minor": 2
}
