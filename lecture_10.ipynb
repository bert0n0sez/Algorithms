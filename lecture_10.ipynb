{
 "cells": [
  {
   "cell_type": "markdown",
   "metadata": {},
   "source": [
    "# Лекция 10\n",
    "## Динамическое программирование\n",
    "### Наибольшая общая подпоследовательность"
   ]
  },
  {
   "cell_type": "code",
   "execution_count": 1,
   "metadata": {},
   "outputs": [
    {
     "name": "stdout",
     "output_type": "stream",
     "text": [
      "    a b c d e f j h s ; g b k s s b\n",
      "  0 0 0 0 0 0 0 0 0 0 0 0 0 0 0 0 0\n",
      "s 0 0 0 0 0 0 0 0 0 1 1 1 1 1 1 1 1\n",
      "o 0 0 0 0 0 0 0 0 0 1 1 1 1 1 1 1 1\n",
      "j 0 0 0 0 0 0 0 1 1 1 1 1 1 1 1 1 1\n",
      "g 0 0 0 0 0 0 0 1 1 1 1 2 2 2 2 2 2\n",
      "n 0 0 0 0 0 0 0 1 1 1 1 2 2 2 2 2 2\n",
      "l 0 0 0 0 0 0 0 1 1 1 1 2 2 2 2 2 2\n",
      "d 0 0 0 0 1 1 1 1 1 1 1 2 2 2 2 2 2\n",
      "j 0 0 0 0 1 1 1 2 2 2 2 2 2 2 2 2 2\n",
      "g 0 0 0 0 1 1 1 2 2 2 2 3 3 3 3 3 3\n",
      "n 0 0 0 0 1 1 1 2 2 2 2 3 3 3 3 3 3\n",
      "a 0 1 1 1 1 1 1 2 2 2 2 3 3 3 3 3 3\n",
      "; 0 1 1 1 1 1 1 2 2 2 3 3 3 3 3 3 3\n",
      "g 0 1 1 1 1 1 1 2 2 2 3 4 4 4 4 4 4\n",
      "f 0 1 1 1 1 1 2 2 2 2 3 4 4 4 4 4 4\n",
      "n 0 1 1 1 1 1 2 2 2 2 3 4 4 4 4 4 4\n",
      "a 0 1 1 1 1 1 2 2 2 2 3 4 4 4 4 4 4\n",
      "['d', 'j', ';', 'g']\n"
     ]
    }
   ],
   "source": [
    "\n",
    "def gcs_len(A:list, B:list) -> list[list[int]]:\n",
    "    '''build table with lenghtes of great common sequences\n",
    "    '''\n",
    "    res = [[0] * (len(A) + 1) for _ in range((len(B)+ 1))]\n",
    "    for j in range(1, len(B)+1):\n",
    "        for i in range(1, len(A) + 1):\n",
    "            if A[i-1] == B[j-1]: \n",
    "                res[j][i] = res[j-1][i-1] + 1\n",
    "            else:\n",
    "                res[j][i] = max(res[j-1][i], res[j][i-1])\n",
    "    return res\n",
    "\n",
    "def gsc(A:list, B:list) -> list:\n",
    "    '''get great common sequence\n",
    "    '''\n",
    "    leng = gcs_len(A, B)\n",
    "    i = len(A)\n",
    "    j = len(B)\n",
    "    res = []\n",
    "    while leng[j][i] != 0:\n",
    "        if A[i-1] == B[j-1]:\n",
    "            res.append(A[i-1])\n",
    "            i -= 1\n",
    "            j -= 1\n",
    "        else:\n",
    "            if leng[j-1][i] == leng[j][i]:\n",
    "                j -= 1\n",
    "            else:\n",
    "                i -=1 \n",
    "    return res[::-1]\n",
    "\n",
    "a = 'abcdefjhs;gbkssb'\n",
    "b = 'sojgnldjgna;gfna'\n",
    "res = gcs_len(a, b)\n",
    "print('   ', *a)\n",
    "tmp = iter(enumerate(res))\n",
    "print(' ', *next(tmp)[1])\n",
    "for i, l in tmp:\n",
    "    print(b[i-1], *l)\n",
    "\n",
    "print(gsc(a, b))"
   ]
  },
  {
   "cell_type": "code",
   "execution_count": 4,
   "metadata": {},
   "outputs": [
    {
     "name": "stdout",
     "output_type": "stream",
     "text": [
      "19 18 19 3 16 11 9 19 11 1\n",
      "[1, 1, 2, 1, 2, 2, 2, 3, 3, 1]\n"
     ]
    }
   ],
   "source": [
    "\n",
    "def gis(A:list) -> list[int]:\n",
    "    res = [0] * len(A)\n",
    "    for i in range(len(A)):\n",
    "        m = 0\n",
    "        for j in range(i):\n",
    "            if res[j] > m and A[j] < A[i]:\n",
    "                m = res[j]\n",
    "        res[i] = m + 1\n",
    "    return res\n",
    "\n",
    "from random import randint\n",
    "A = [randint(1, 20) for _ in range(10)]\n",
    "print(*A)\n",
    "print(gis(A))"
   ]
  },
  {
   "cell_type": "markdown",
   "metadata": {},
   "source": [
    "### Задача о рюкззаке\n",
    "1) предметы в одном экземпляре\n",
    "2) предметы имеют ценность и вес\n",
    "3) вес в целых числах"
   ]
  },
  {
   "cell_type": "code",
   "execution_count": 9,
   "metadata": {},
   "outputs": [
    {
     "name": "stdout",
     "output_type": "stream",
     "text": [
      "    00  01  02  03  04  05  06  07  08  09  10  11  12  13  14  15  16  17  18  19  20\n",
      "6 1 00  06  06  06  06  06  06  06  06  06  06  06  06  06  06  06  06  06  06  06  06\n",
      "6 5 00  06  06  06  06  06  12  12  12  12  12  12  12  12  12  12  12  12  12  12  12\n",
      "6 9 00  06  06  06  06  06  12  12  12  12  12  12  12  12  12  18  18  18  18  18  18\n",
      "1 1 00  06  07  07  07  07  12  13  13  13  13  13  13  13  13  18  19  19  19  19  19\n",
      "2 3 00  06  07  07  08  09  12  13  13  14  15  15  15  15  15  18  19  19  20  21  21\n",
      "2 7 00  06  07  07  08  09  12  13  13  14  15  15  15  15  15  18  19  19  20  21  21\n",
      "2 5 00  06  07  07  08  09  12  13  13  14  15  15  15  15  16  18  19  19  20  21  21\n",
      "1 4 00  06  07  07  08  09  12  13  13  14  15  15  15  15  16  18  19  19  20  21  21\n",
      "2 8 00  06  07  07  08  09  12  13  13  14  15  15  15  15  16  18  19  19  20  21  21\n",
      "5 6 00  06  07  07  08  09  12  13  13  14  15  15  17  18  18  19  20  20  20  21  21\n"
     ]
    }
   ],
   "source": [
    "\n",
    "def max_backpack(w:list[int], price:list, W:int) -> list[list]:\n",
    "    '''calc table of max price in backpack\n",
    "    '''\n",
    "    res = [[0] * (W + 1) for _ in range(len(w) + 1)]\n",
    "    for i in range(1, len(w) + 1):\n",
    "        for j in range(1, W+1):\n",
    "            if w[i-1] > j:\n",
    "                res[i][j] = res[i-1][j]\n",
    "            else:\n",
    "                res[i][j] = max(res[i-1][j], price[i-1] + res[i-1][j - w[i-1]])\n",
    "    return res\n",
    "\n",
    "from random import randint\n",
    "N = 10\n",
    "w = [randint(1, 9) for _ in range(N)]\n",
    "p = [randint(1, 9) for _ in range(N)]\n",
    "r = max_backpack(w, p, 20)\n",
    "print('   ', '  '.join(map(lambda x:f'{x:02}', range(21))))\n",
    "for i in range(N):\n",
    "    print(p[i], w[i], '  '.join(map(lambda x:f'{x:02}',r[i+1])))"
   ]
  },
  {
   "cell_type": "markdown",
   "metadata": {},
   "source": [
    "### Алгоритм на строках\n",
    "Расстояние Левинштейна"
   ]
  },
  {
   "cell_type": "code",
   "execution_count": 1,
   "metadata": {},
   "outputs": [],
   "source": [
    "\n",
    "def lev(a:str, b:str) -> list[int]:\n",
    "    A = [[i + j if i == 0 or j == 0 else 0 for j in range(len(a) + 1)] for i in range(len(b) + 1)]\n",
    "    for i in range(1, len(b) + 1):\n",
    "        for j in range(1, len(a) + 1):\n",
    "            if a[j] == b[i]:\n",
    "                A[i][j] = A[i-1][j-1]\n",
    "            else:\n",
    "                A[i][j] = min(A[i-1][j], A[i-1][j-1], A[i][j-1]) + 1\n",
    "    return A"
   ]
  }
 ],
 "metadata": {
  "kernelspec": {
   "display_name": "Python 3",
   "language": "python",
   "name": "python3"
  },
  "language_info": {
   "codemirror_mode": {
    "name": "ipython",
    "version": 3
   },
   "file_extension": ".py",
   "mimetype": "text/x-python",
   "name": "python",
   "nbconvert_exporter": "python",
   "pygments_lexer": "ipython3",
   "version": "3.11.5"
  }
 },
 "nbformat": 4,
 "nbformat_minor": 2
}
