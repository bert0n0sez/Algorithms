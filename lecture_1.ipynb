{
 "cells": [
  {
   "cell_type": "markdown",
   "metadata": {},
   "source": [
    "# Алгоритмы и структуры данных\n",
    "# Лекция 1 \n",
    "# Синтаксис Python"
   ]
  },
  {
   "cell_type": "code",
   "execution_count": null,
   "metadata": {},
   "outputs": [],
   "source": [
    "# Целое число\n",
    "x = 10\n",
    "\n",
    "# Вещественное число\n",
    "y = 3.14\n",
    "\n",
    "# Строка\n",
    "name = \"Python\"\n",
    "\n",
    "# Булево значение\n",
    "is_active = True"
   ]
  },
  {
   "cell_type": "code",
   "execution_count": null,
   "metadata": {},
   "outputs": [],
   "source": [
    "# Проверка типа переменной\n",
    "print(type(x))  # <class 'int'>\n",
    "print(type(y))  # <class 'float'>\n",
    "print(type(name))  # <class 'str'>\n",
    "print(type(is_active))  # <class 'bool'>"
   ]
  },
  {
   "cell_type": "code",
   "execution_count": 1,
   "metadata": {},
   "outputs": [],
   "source": [
    "# Сложение\n",
    "a = 5 + 3  # a = 8\n",
    "\n",
    "# Вычитание\n",
    "b = 10 - 4  # b = 6\n",
    "\n",
    "# Умножение\n",
    "c = 2 * 7  # c = 14\n",
    "\n",
    "# Деление (всегда возвращает float)\n",
    "d = 10 / 3  # d = 3.333...\n",
    "\n",
    "# Целочисленное деление\n",
    "e = 10 // 3  # e = 3\n",
    "\n",
    "# Остаток от деления\n",
    "f = 10 % 3  # f = 1\n",
    "\n",
    "# Возведение в степень\n",
    "g = 2 ** 3  # g = 8"
   ]
  },
  {
   "cell_type": "code",
   "execution_count": null,
   "metadata": {},
   "outputs": [],
   "source": [
    "string1 = \"Привет\"\n",
    "string2 = 'Мир'\n",
    "string3 = \"\"\"Это многострочный текст.\"\"\""
   ]
  },
  {
   "cell_type": "code",
   "execution_count": null,
   "metadata": {},
   "outputs": [],
   "source": [
    "# Конкатенация\n",
    "greeting = \"Hello\" + \" \" + \"World\"  # greeting = \"Hello World\"\n",
    "\n",
    "# Повторение\n",
    "repeated = \"A\" * 5  # repeated = \"AAAAA\"\n",
    "\n",
    "# Индексация\n",
    "char = greeting[0]  # char = \"H\"\n",
    "\n",
    "# Срезы\n",
    "substring = greeting[1:5]  # substring = \"ello\""
   ]
  },
  {
   "cell_type": "code",
   "execution_count": null,
   "metadata": {},
   "outputs": [],
   "source": [
    "# Создание списка\n",
    "numbers = [1, 2, 3, 4, 5]\n",
    "\n",
    "# Доступ к элементам\n",
    "first = numbers[0]  # first = 1\n",
    "\n",
    "# Изменение элемента\n",
    "numbers[0] = 10  # numbers = [10, 2, 3, 4, 5]\n",
    "\n",
    "# Добавление элемента\n",
    "numbers.append(6)  # numbers = [10, 2, 3, 4, 5, 6]\n",
    "\n",
    "# Удаление элемента\n",
    "numbers.remove(2)  # numbers = [10, 3, 4, 5, 6]\n",
    "\n",
    "# Срезы\n",
    "subset = numbers[1:4]  # subset = [3, 4, 5]"
   ]
  },
  {
   "cell_type": "code",
   "execution_count": null,
   "metadata": {},
   "outputs": [],
   "source": [
    "# Простое условие\n",
    "x = 10\n",
    "if x > 5:\n",
    "    print(\"x больше 5\")\n",
    "else:\n",
    "    print(\"x меньше или равно 5\")\n",
    "\n",
    "# Вложенные условия\n",
    "y = 20\n",
    "if y > 15:\n",
    "    if y < 25:\n",
    "        print(\"y находится в диапазоне 15..25\")"
   ]
  },
  {
   "cell_type": "code",
   "execution_count": null,
   "metadata": {},
   "outputs": [],
   "source": [
    "# Проход по списку\n",
    "for i in [1, 2, 3, 4]:\n",
    "    print(i)\n",
    "\n",
    "# Проход по диапазону\n",
    "for j in range(5):  # range(5) генерирует числа от 0 до 4\n",
    "    print(j)"
   ]
  },
  {
   "cell_type": "code",
   "execution_count": null,
   "metadata": {},
   "outputs": [],
   "source": [
    "# Простой цикл while\n",
    "count = 0\n",
    "while count < 5:\n",
    "    print(count)\n",
    "    count += 1"
   ]
  },
  {
   "cell_type": "code",
   "execution_count": null,
   "metadata": {},
   "outputs": [],
   "source": [
    "# Объявление функции\n",
    "def add(a, b):\n",
    "    return a + b\n",
    "\n",
    "# Вызов функции\n",
    "result = add(3, 5)  # result = 8\n",
    "print(result)"
   ]
  },
  {
   "cell_type": "code",
   "execution_count": null,
   "metadata": {},
   "outputs": [],
   "source": [
    "# Создание словаря\n",
    "person = {\"name\": \"Alice\", \"age\": 25}\n",
    "\n",
    "# Доступ к элементам\n",
    "name = person[\"name\"]  # name = \"Alice\"\n",
    "\n",
    "# Изменение значения\n",
    "person[\"age\"] = 26  # person = {\"name\": \"Alice\", \"age\": 26}\n",
    "\n",
    "# Добавление нового ключа\n",
    "person[\"city\"] = \"New York\"  # person = {\"name\": \"Alice\", \"age\": 26, \"city\": \"New York\"}"
   ]
  },
  {
   "cell_type": "code",
   "execution_count": null,
   "metadata": {},
   "outputs": [],
   "source": [
    "# Создание множества\n",
    "my_set = {1, 2, 3, 4}\n",
    "\n",
    "# Добавление элемента\n",
    "my_set.add(5)  # my_set = {1, 2, 3, 4, 5}\n",
    "\n",
    "# Удаление элемента\n",
    "my_set.remove(3)  # my_set = {1, 2, 4, 5}"
   ]
  },
  {
   "cell_type": "code",
   "execution_count": null,
   "metadata": {},
   "outputs": [],
   "source": [
    "try:\n",
    "    x = 10 / 0\n",
    "except ZeroDivisionError:\n",
    "    print(\"Деление на ноль!\")"
   ]
  }
 ],
 "metadata": {
  "kernelspec": {
   "display_name": "Python 3",
   "language": "python",
   "name": "python3"
  },
  "language_info": {
   "codemirror_mode": {
    "name": "ipython",
    "version": 3
   },
   "file_extension": ".py",
   "mimetype": "text/x-python",
   "name": "python",
   "nbconvert_exporter": "python",
   "pygments_lexer": "ipython3",
   "version": "3.11.5"
  }
 },
 "nbformat": 4,
 "nbformat_minor": 2
}
