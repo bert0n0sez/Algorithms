{
 "cells": [
  {
   "cell_type": "markdown",
   "metadata": {},
   "source": [
    "# Лекция 5\n",
    "## Списки \n"
   ]
  },
  {
   "cell_type": "code",
   "execution_count": null,
   "metadata": {},
   "outputs": [],
   "source": [
    "def foo (a, b = None):\n",
    "    if b is None: b = []\n",
    "    b.append(a)\n",
    "    return b\n",
    "\n",
    "print(1)\n",
    "print(2, [])\n",
    "print(3)"
   ]
  },
  {
   "cell_type": "code",
   "execution_count": null,
   "metadata": {},
   "outputs": [],
   "source": [
    "A = list('перечислимое')\n",
    "A = list(range(1, 15, 3))"
   ]
  },
  {
   "cell_type": "code",
   "execution_count": null,
   "metadata": {},
   "outputs": [],
   "source": [
    "a = [ i**2 for i in range(100) if i % 3 == 1]\n",
    "# A = [f(x) fot x in ... if cond(x)]\n",
    "a = [ [] * 3 for _ in range(3)]\n",
    "\n",
    "\n",
    "\n",
    "list.append(x)\n",
    "list.insert(i,x) #вставляет в индекс очень долгая \n",
    "list.pop()\n",
    "list.pop(i) # забирает элемент \n"
   ]
  },
  {
   "cell_type": "code",
   "execution_count": null,
   "metadata": {},
   "outputs": [],
   "source": [
    "a = [1,2,3,4,5]\n",
    "a[-1] = 5\n",
    "A[1:10:2] #-> [1,3,5,7,9]\n",
    "B[1:9:2] # 1,3,5,7 \n",
    "# A[start:stop:step] step = 1 spot не включается старт включается\n",
    "A[3:500000]\n",
    "A[:5] \n",
    "A[3:]\n",
    "A[-3:]\n",
    "A[:]  # копия\n",
    "A[::-1] # обратный список"
   ]
  },
  {
   "cell_type": "code",
   "execution_count": null,
   "metadata": {},
   "outputs": [],
   "source": [
    "import doctest\n",
    "\n",
    "doctest.testmod()\n",
    "\n",
    "def find(A:list, el):\n",
    "    '''\n",
    "    >>> find(list(range(10)), 9)\n",
    "    true\n",
    "    '''"
   ]
  },
  {
   "cell_type": "code",
   "execution_count": null,
   "metadata": {},
   "outputs": [],
   "source": [
    "def eratosfen(N:int):                                                                \n",
    "     '''                                                                                    \n",
    "     print prime numbers from 2 to N                                                        \n",
    "     '''                                                                                 \n",
    "     A = [True] * N                                                                     \n",
    "     A[0] = A[1] = False                                                                 \n",
    "     for i in range(2, N):                                                             \n",
    "         if A[i]:                                                                      \n",
    "             for j in range(2*i, N, i):                                                  \n",
    "                 A[j] = False                                                              \n",
    "     for i in range(N):                                                                \n",
    "         if A[i]: print(i, end=' ')"
   ]
  }
 ],
 "metadata": {
  "language_info": {
   "name": "python"
  }
 },
 "nbformat": 4,
 "nbformat_minor": 2
}
