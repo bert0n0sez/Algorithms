{
 "cells": [
  {
   "cell_type": "markdown",
   "metadata": {},
   "source": [
    "# Лекция 13 \n",
    "## Обьектно-ориентированное программирование\n",
    "\n",
    "1) инкапсуляция - это процесс отделения друг от друга элементов объекта, определяющих его устройство и поведение; инкапсуляция служит для того, чтобы изолировать контрактные обязательства абстракции от их реализации. По большому счету нет в Python \n",
    "\n",
    "2) наследование - отношения между классами (отношение родитель/потомок), когда один класс заимствует, а также расширяет и/или специализирует (уточняет) структуру и функциональный контракт одного или нескольких родительских классов\n",
    "\n",
    "3) полиморфизм - использование \"несуществующих функций\" \n",
    "\n",
    "С++ -> C -> ASM -> компьютерный код\n",
    "\n",
    "Класс                              | Экземпляр класса \n",
    "                                   | \n",
    "Атрибуты класса                    | Атрибуты экземпляра \n",
    "\n",
    "self - экземпляр класса\n",
    "\n",
    "\" скрыть \" в __     инкапсуляция, не следует лезть туда\n",
    "также можно использовать менее сильное _  не рекомендуется лезть туда\n",
    "\n",
    "### Магические методы\n",
    "\n",
    "__new__\n",
    "\n",
    "__init__\n",
    "\n",
    "__str__ - как получить строку    | __repr__ похожая штука, понятная программисту, внутреннее представление\n",
    "\n",
    "__bool__\n",
    "\n",
    "__int__\n",
    "\n",
    "__float__\n",
    "\n",
    "__complex__\n",
    "\n",
    "__add__ добавление\n",
    "\n",
    "__radd__ справа\n",
    "\n",
    "__iadd__ += \n",
    "\n",
    "__mul__ __rmul__\n",
    "\n",
    "__sub__ вычетание\n",
    "\n",
    "__truediv__ деление\n",
    "\n",
    "__divmod__ целочисленное деление"
   ]
  },
  {
   "cell_type": "code",
   "execution_count": null,
   "metadata": {},
   "outputs": [
    {
     "name": "stdout",
     "output_type": "stream",
     "text": [
      "1 2\n",
      "5 2\n"
     ]
    }
   ],
   "source": [
    "class A:\n",
    "    x = 1\n",
    "    y = 2\n",
    "\n",
    "    def print(self):\n",
    "        print(self.x, self.y)\n",
    "\n",
    "if __name__ == '__main__':\n",
    "    a = A()   # экземпляр класса А \n",
    "    a.print()\n",
    "    a.x = 5    # x хранящийся в А \n",
    "    a.print()\n",
    "    a.x += 5 # хранится в а\n",
    "    A.x += 5 # хранится в А"
   ]
  },
  {
   "cell_type": "code",
   "execution_count": null,
   "metadata": {},
   "outputs": [
    {
     "ename": "SyntaxError",
     "evalue": "invalid syntax. Perhaps you forgot a comma? (381513311.py, line 11)",
     "output_type": "error",
     "traceback": [
      "\u001b[1;36m  Cell \u001b[1;32mIn[3], line 11\u001b[1;36m\u001b[0m\n\u001b[1;33m    print(self.name, 'from' self.group)\u001b[0m\n\u001b[1;37m                     ^\u001b[0m\n\u001b[1;31mSyntaxError\u001b[0m\u001b[1;31m:\u001b[0m invalid syntax. Perhaps you forgot a comma?\n"
     ]
    }
   ],
   "source": [
    "class User:\n",
    "    def __new__():   # функция конструирования\n",
    "        pass\n",
    "    def __init__(self, name, group): # функция инициализации\n",
    "        self.name = name \n",
    "        self.group = group\n",
    "        self.__x = 1\n",
    "        self._y = 2\n",
    "    \"\"\"name = None\n",
    "    group = 'b06-200'\"\"\" # уже учли в __init__ \n",
    "\n",
    "    def print(self):\n",
    "        print(self.name, 'from', self.group)\n",
    "\n",
    "    def __str__(self):\n",
    "        return f'{self.name} from {self.group}'\n",
    "    \n",
    "    def __repr__(self):\n",
    "        return f'User({self.name} from {self.group})'\n",
    "    \n",
    "\n",
    "if __name__ == '__main__':\n",
    "    a = User()\n",
    "    a.name = 'Альберт'\n",
    "    a.group = 'Б06-304'\n",
    "    a.print()\n",
    "\n",
    "\n",
    "    a = User('Albert', '304')\n",
    "    a.print()\n",
    "\n",
    "\n",
    "    b = User.__new__(User)\n",
    "    User.__init__(b, 'Albert', '304')\n",
    "    User.print(b)\n",
    "\n",
    "    print(a._User__x)\n",
    "    print(dir(a))\n",
    "\n",
    "    x = str(a)\n",
    "    x = a.__str__()\n"
   ]
  },
  {
   "cell_type": "code",
   "execution_count": 4,
   "metadata": {},
   "outputs": [
    {
     "name": "stdout",
     "output_type": "stream",
     "text": [
      "(1, 5) (6, 7) (7, 12)\n"
     ]
    }
   ],
   "source": [
    "class Vec:\n",
    "    def __init__(self, x, y):\n",
    "        self.x = x\n",
    "        self.y = y\n",
    "\n",
    "    def __str__(self):\n",
    "        return f'({self.x}, {self.y})'\n",
    "\n",
    "    def __add__(self, other):\n",
    "        return Vec(self.x + other.x, self.y + other.y)\n",
    "a = Vec(1, 5)\n",
    "b = Vec(6, 7)\n",
    "\n",
    "print(a, b, a + b)"
   ]
  },
  {
   "cell_type": "code",
   "execution_count": null,
   "metadata": {},
   "outputs": [],
   "source": [
    "class A:\n",
    "    def __init__(self, x, y):\n",
    "        self.x = x\n",
    "        if y < 0: raise ValueError(f'{y} < 0')\n",
    "        self.__y = y\n",
    "\n",
    "    def print(self):\n",
    "        print(self.x, self.__y)\n",
    "\n",
    "    def get_y(self):\n",
    "        return self.__y\n",
    "    \n",
    "    def set_y(self, y):\n",
    "        if y < 0: raise ValueError(f'{y} < 0')\n",
    "        self.y = y\n",
    "    \n",
    "    y = property(get_y, set_y)\n",
    "\n",
    "    @property \n",
    "    def y(self):\n",
    "        return self.__y\n",
    "    \n",
    "    @y.setter\n",
    "    def y(self, y):\n",
    "        if y < 0:  raise ValueError(f'{y} < 0')\n",
    "        self.__y = y\n",
    "\n",
    "class B(A):\n",
    "    def __init__(self, x, y, z):\n",
    "        super().__init__(x, y) # перенос всего функционала\n",
    "        \"\"\"self.x = x\n",
    "        self.y = y\"\"\"\n",
    "        self.z = z\n",
    "    def __abs__(self):\n",
    "        return B(abs(self.x), abs(self.get_y()), abs(self.z))\n",
    "    \n",
    "a = A(-3, 5)\n",
    "b = B(-1, -2, 6)\n",
    "\n",
    "a.print()\n",
    "b.print()\n",
    "abs(b).print()"
   ]
  }
 ],
 "metadata": {
  "kernelspec": {
   "display_name": "Python 3",
   "language": "python",
   "name": "python3"
  },
  "language_info": {
   "codemirror_mode": {
    "name": "ipython",
    "version": 3
   },
   "file_extension": ".py",
   "mimetype": "text/x-python",
   "name": "python",
   "nbconvert_exporter": "python",
   "pygments_lexer": "ipython3",
   "version": "3.11.5"
  }
 },
 "nbformat": 4,
 "nbformat_minor": 2
}
