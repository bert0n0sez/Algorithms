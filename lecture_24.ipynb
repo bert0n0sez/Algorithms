{
 "cells": [
  {
   "cell_type": "markdown",
   "id": "589516b9",
   "metadata": {},
   "source": [
    "# Лекция 24\n",
    "# Теория игр на графах"
   ]
  },
  {
   "cell_type": "code",
   "execution_count": null,
   "id": "ec26a53a",
   "metadata": {
    "vscode": {
     "languageId": "plaintext"
    }
   },
   "outputs": [],
   "source": []
  }
 ],
 "metadata": {
  "language_info": {
   "name": "python"
  }
 },
 "nbformat": 4,
 "nbformat_minor": 5
}
