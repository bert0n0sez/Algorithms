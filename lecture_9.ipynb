{
 "cells": [
  {
   "cell_type": "markdown",
   "metadata": {},
   "source": [
    "# Лекция 9\n",
    "## Динамическое программирование\n",
    "кэширование - элемент динамического программирования \n",
    "может использовать рекурсию\n",
    "сортировка слияние и быстрая надо разобрать самому\n",
    "qsort \n",
    "кучей"
   ]
  },
  {
   "cell_type": "code",
   "execution_count": null,
   "metadata": {},
   "outputs": [],
   "source": [
    "cache  = [0, 1]\n",
    "def grass_1(N:int) -> int:\n",
    "    '''return count of variants ... рекурсия с кэшированием\n",
    "    '''\n",
    "    if N < len(cache):\n",
    "        return cache[N]\n",
    "    res = grass_1(N-1) + grass_1(N-2)\n",
    "    cache.append(res)\n",
    "    return cache[N]\n",
    "\n",
    "def grass_2(N:int)->int:\n",
    "    A = [0, 1]\n",
    "    for i in range(2, N+1):\n",
    "        A.append(A[i-1] + A[i-2])\n",
    "    return A[N]\n",
    "\n",
    "def grass_3(N:int)->int:\n",
    "    A = [0] * (N+3)\n",
    "    A[1] = 1\n",
    "    for i in range(1, N):\n",
    "        A[i+1] += A[i]\n",
    "        A[i+2]+= A[i]\n",
    "    return A[N]\n",
    "\n",
    "def fib(N):\n",
    "    '''числа Фиббоначи'''\n",
    "    a = b = 1\n",
    "    for i in range(N-2):\n",
    "        a, b = b, a+b\n",
    "    return b"
   ]
  },
  {
   "cell_type": "code",
   "execution_count": 3,
   "metadata": {},
   "outputs": [],
   "source": [
    "def min_price(price:list)->list:\n",
    "    ans = [1000000, price[0]]\n",
    "    for i in range(2, len(price)+1):\n",
    "        ans.append(price[i-1] + min(ans[i-1], ans[i-2]))\n",
    "    return ans\n",
    "\n",
    "def min_path(price:list)->list:\n",
    "    min_p = min_price(price)\n",
    "    N = len(price)\n",
    "    ans = [N]\n",
    "    while N != 1:\n",
    "        if min_p[N] - price[N-1] == min_p[N-1]: N -= 1\n",
    "        else: N -= 2\n",
    "        ans.append(N)\n",
    "\n",
    "    return ans[::-1]"
   ]
  },
  {
   "cell_type": "markdown",
   "metadata": {},
   "source": [
    "### ход короля\n",
    "двумерное динамическое программирование"
   ]
  },
  {
   "cell_type": "code",
   "execution_count": 1,
   "metadata": {},
   "outputs": [
    {
     "name": "stdout",
     "output_type": "stream",
     "text": [
      "0\t1\t0\t0\t0\t0\t0\t0\t0\n",
      "0\t1\t1\t1\t1\t1\t1\t1\t1\n",
      "0\t1\t2\t3\t4\t5\t6\t7\t8\n",
      "0\t1\t3\t6\t10\t15\t21\t28\t36\n",
      "0\t1\t4\t10\t20\t35\t56\t84\t120\n",
      "0\t1\t5\t15\t35\t70\t126\t210\t330\n",
      "0\t1\t6\t21\t56\t126\t252\t462\t792\n",
      "0\t1\t7\t28\t84\t210\t462\t924\t1716\n",
      "0\t1\t8\t36\t120\t330\t792\t1716\t3432\n"
     ]
    }
   ],
   "source": [
    "def chess(N:int)->int:\n",
    "    A = [[0] * (N+1) for _ in range(N+1)]  #чтоб не было внутр списков. это двумерный список\n",
    "    A[0][1] = 1\n",
    "    for i in range(1, N+1):\n",
    "        for j in range(1, N+1):\n",
    "            A[i][j] = A[i-1][j] + A[i][j-1]\n",
    "    return A\n",
    "\n",
    "res = chess(8)\n",
    "for line in res:\n",
    "    print('\\t'.join(map(str, line)))  # вывести через пробел"
   ]
  }
 ],
 "metadata": {
  "kernelspec": {
   "display_name": "Python 3",
   "language": "python",
   "name": "python3"
  },
  "language_info": {
   "codemirror_mode": {
    "name": "ipython",
    "version": 3
   },
   "file_extension": ".py",
   "mimetype": "text/x-python",
   "name": "python",
   "nbconvert_exporter": "python",
   "pygments_lexer": "ipython3",
   "version": "3.11.5"
  }
 },
 "nbformat": 4,
 "nbformat_minor": 2
}
