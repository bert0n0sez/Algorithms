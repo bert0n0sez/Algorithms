{
 "cells": [
  {
   "cell_type": "markdown",
   "metadata": {},
   "source": [
    "# Лекция 21\n",
    "## Поиск кратчайшего пути. Кратчайшая тракетория."
   ]
  },
  {
   "cell_type": "code",
   "execution_count": null,
   "metadata": {},
   "outputs": [],
   "source": [
    "def BFS(start_node, adj_list, visited_set=None):\n",
    "    if visited_set is None:\n",
    "        visited_set = set()\n",
    "    visited_set.add(start_node)\n",
    "    queue = [start_node]\n",
    "    while queue:\n",
    "        curr_node = queue.pop(0) # убрать 0 и получится DSF\n",
    "        for adj_node in adj_list[curr_node]:\n",
    "            if adj_node not in visited_set:\n",
    "                visited_set.add(adj_node)\n",
    "                queue.append(adj_node)\n",
    "    return visited_set "
   ]
  },
  {
   "cell_type": "code",
   "execution_count": null,
   "metadata": {},
   "outputs": [],
   "source": [
    "def BFS_dist(start_node, adj_list, distances=None):\n",
    "    if distances is None:\n",
    "        distances = [float(\"inf\") for i in range(len(adj_list))]\n",
    "    distances[start_node] = 0\n",
    "    queue = [start_node]\n",
    "    while queue:\n",
    "        curr_node = queue.pop(0) \n",
    "        for adj_node in adj_list[curr_node]:\n",
    "            if distances[adj_node] == float(\"inf\"):\n",
    "                distances[adj_node] = distances[curr_node] + 1\n",
    "                queue.append(adj_node)\n",
    "    return distances"
   ]
  },
  {
   "cell_type": "code",
   "execution_count": null,
   "metadata": {},
   "outputs": [],
   "source": [
    "def trajectory(start_node, finish_node, adj_list, rev_adj_list):\n",
    "    d = BFS_dist(start_node, adj_list)\n",
    "    res = [finish_node]\n",
    "    curr_node = finish_node\n",
    "    for i in range(d[finish_node]):\n",
    "        for parent_node in rev_adj_list[curr_node]:\n",
    "            if d[parent_node] + 1 == d[curr_node]:\n",
    "                res.append(parent_node)\n",
    "                curr_node = parent_node\n",
    "                break # если ищем одну\n",
    "    return res[::-1]\n",
    "\n",
    "def read_graph():\n",
    "    N, M = (int(x) for x in input().split())\n",
    "    adj_list = [[] for i in range(N)]\n",
    "    rev_adj_list = [[] for i in range(N)]\n",
    "    for i in range(M):\n",
    "        s, f = (int(x) for x in input().split())\n",
    "        adj_list[s].append(f)\n",
    "        rev_adj_list[f].append(s)\n",
    "    return adj_list, rev_adj_list"
   ]
  },
  {
   "cell_type": "code",
   "execution_count": null,
   "metadata": {},
   "outputs": [],
   "source": [
    "def move_knight(i, j):\n",
    "    res = []\n",
    "    steps = [2, -2, 1, -1]\n",
    "    for step_1 in steps:\n",
    "        for step_2 in steps:\n",
    "            if abs(step_1) * abs(step_2) == 2:\n",
    "                x = i + step_1\n",
    "                y = j + step_2\n",
    "                if 0 <= x < 8 and 0 <= y < 8:\n",
    "                    res.append((x, y))\n",
    "    return res\n",
    "\n",
    "def chess_position(i, j):\n",
    "    row = \"absdefg\"\n",
    "    column = \"12345678\"\n",
    "    return f\"{row[i]}{column[j]}\"\n",
    "\n",
    "def chess_coords(s):\n",
    "    x, y = s[o], s[1]\n",
    "    row = \"absdefg\"\n",
    "    column = \"12345678\"\n",
    "    return row.index(x), column.index(y)\n",
    "\n",
    "def generate_pos():\n",
    "    res = []\n",
    "    for i in range(8):\n",
    "        for j in range(8):\n",
    "            res.append((i, j))\n",
    "\n",
    "def chess_dist(start_node, distances=None):\n",
    "    if distances is None:\n",
    "        distances = {pos: float(\"inf\") for pos in generate_pos()}\n",
    "    distances[start_node] = 0\n",
    "    queue = [start_node]\n",
    "    while queue:\n",
    "        curr_node = queue.pop(0)\n",
    "        for move in move_knight(*curr_node):\n",
    "            if distances[move] == float(\"inf\"):\n",
    "                distances[move] = distances[curr_node] + 1\n",
    "                queue.append(move)\n",
    "    return distances"
   ]
  }
 ],
 "metadata": {
  "language_info": {
   "name": "python"
  }
 },
 "nbformat": 4,
 "nbformat_minor": 2
}
