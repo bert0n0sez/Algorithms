{
 "cells": [
  {
   "cell_type": "markdown",
   "metadata": {},
   "source": [
    "# Алгоритмы и структуры данных\n",
    "## 2 семестр\n",
    "### Лекция 1 (в весеннем семестре)\n",
    "## Хэш\n",
    "Хэш функция\n",
    "1) Детерминированность\n",
    "2) Охраниченность \n",
    "3) Loveинообразность\n",
    "4) Скорость вычисления\n",
    "\n",
    "md4\n",
    "md5\n",
    "sha.2a\n",
    "\n",
    "hash() в питоне не оч\n",
    "### Полиномиальный хэш\n",
    "s=s_1 ... s_k\n",
    "h(s)=sum(f(s_i)a) mod b \n",
    "\n",
    "### Поиск входящей подстроки в строке\n",
    "Проверка Ребена-Карп\n",
    "b - простое число лучше \n",
    "\n",
    "dict и set \n",
    "списки"
   ]
  },
  {
   "cell_type": "code",
   "execution_count": 1,
   "metadata": {},
   "outputs": [
    {
     "name": "stdout",
     "output_type": "stream",
     "text": [
      "67324\n"
     ]
    }
   ],
   "source": [
    "def polhash(data, a, b):\n",
    "    res = 0\n",
    "    for x in data:\n",
    "        res = (res * a + ord(x) - ord('a') + 1) % b\n",
    "    return res\n",
    "\n",
    "print(polhash('abcd', 40, 10000000))"
   ]
  }
 ],
 "metadata": {
  "kernelspec": {
   "display_name": "Python 3",
   "language": "python",
   "name": "python3"
  },
  "language_info": {
   "codemirror_mode": {
    "name": "ipython",
    "version": 3
   },
   "file_extension": ".py",
   "mimetype": "text/x-python",
   "name": "python",
   "nbconvert_exporter": "python",
   "pygments_lexer": "ipython3",
   "version": "3.11.5"
  }
 },
 "nbformat": 4,
 "nbformat_minor": 2
}
