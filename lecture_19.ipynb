{
 "cells": [
  {
   "cell_type": "markdown",
   "metadata": {},
   "source": [
    "# Лекция 19\n",
    "## Графы\n",
    "### Способы хранения графов и их визуализация\n",
    "### Обход графов в глубину (deep first search)\n",
    "### Обход графа в ширину (bleef first search)"
   ]
  },
  {
   "cell_type": "code",
   "execution_count": null,
   "metadata": {},
   "outputs": [],
   "source": [
    "# матрица смежности \n",
    "def read_matrix():\n",
    "    N, M = map(int, input().split())\n",
    "    G = [[0] * N for _ in range(N)]\n",
    "    name = []\n",
    "    for _ in range(M):\n",
    "        v, u = input().split()\n",
    "        if v not in name: name.append(v)\n",
    "        if u not in name: name.append(u)\n",
    "        v = name.index(v)\n",
    "        u = name.index(u)\n",
    "        G[u][v] = 1 # убрать, если граф оритентированный\n",
    "        G[v][u] = 1\n",
    "    return G, name\n",
    "\n",
    "# список смежности\n",
    "def read_list(): \n",
    "    N, M = map(int, input().split())\n",
    "    G = [[] * N for _ in range(N)]\n",
    "    name = []\n",
    "    for _ in range(M):\n",
    "        v, u = input().split()\n",
    "        if v not in name: name.append(v)\n",
    "        if u not in name: name.append(u)\n",
    "        v = name.index(v)\n",
    "        u = name.index(u)\n",
    "        G[u].append(v) # убрать, если граф ориентированный\n",
    "        G[v].append(u) \n",
    "    return G, name\n",
    "\n",
    "# медленный (не для кр)\n",
    "def read_graph(orient = False, weight = False):\n",
    "    G = {}\n",
    "    N, M = map(int, input().split())\n",
    "    for _ in range(M):\n",
    "        if not weight:\n",
    "            u, v = input().split()\n",
    "            if u not in G: G[u] = []\n",
    "            if v not in G: G[v] = []\n",
    "            G[u].append(v)\n",
    "            if not orient: G[u].append(u)\n",
    "        else:\n",
    "            u, v, w = input().split()\n",
    "            w = float(w)\n",
    "            if u not in G: G[u] = {}\n",
    "            if v not in G: G[v] = {}\n",
    "            G[u][v] = w\n",
    "            if not orient: G[u][v] = w\n",
    "    return G\n",
    "\n",
    "# компактный способ хранения графа\n",
    "# реализация без петель \n",
    "def compact(G:list[list[int]]):\n",
    "    offset = [0]\n",
    "    edges = []\n",
    "    for lst in G:\n",
    "        for ends in lst:\n",
    "            edges.append(ends)\n",
    "        offset.append(len(edges))\n",
    "    return offset, edges\n",
    "\n",
    "if __name__ == \"__main__\":\n",
    "    \n",
    "    #1\n",
    "    G, name = read_matrix()\n",
    "    print(\" \", *name)\n",
    "    for i in range(len(name)):\n",
    "        print(name[i], *G[i], sum(G[i]))\n",
    "\n",
    "    #2\n",
    "    G, name = read_list()\n",
    "    for i in range(len(name)):\n",
    "        print(name[i], ':', *map(lambda x:name[x], G[i]), len(G[i]))\n",
    "\n",
    "    #3\n",
    "    G = read_graph()\n",
    "    for v in G:\n",
    "        print(v, \":\", *G[v], len(G[v]))\n"
   ]
  },
  {
   "cell_type": "code",
   "execution_count": 2,
   "metadata": {},
   "outputs": [
    {
     "ename": "NameError",
     "evalue": "name 'read_graph' is not defined",
     "output_type": "error",
     "traceback": [
      "\u001b[1;31m---------------------------------------------------------------------------\u001b[0m",
      "\u001b[1;31mNameError\u001b[0m                                 Traceback (most recent call last)",
      "Cell \u001b[1;32mIn[2], line 3\u001b[0m\n\u001b[0;32m      1\u001b[0m \u001b[38;5;66;03m# Обход графа в глубину через рекурсию\u001b[39;00m\n\u001b[0;32m      2\u001b[0m \u001b[38;5;66;03m# import read_graph\u001b[39;00m\n\u001b[1;32m----> 3\u001b[0m G \u001b[38;5;241m=\u001b[39m \u001b[43mread_graph\u001b[49m()\n\u001b[0;32m      5\u001b[0m \u001b[38;5;28;01mdef\u001b[39;00m \u001b[38;5;21mdfs\u001b[39m(G, start, used\u001b[38;5;241m=\u001b[39m\u001b[38;5;28;01mNone\u001b[39;00m): \u001b[38;5;66;03m#used нельзя сразу изменяемым делать\u001b[39;00m\n\u001b[0;32m      6\u001b[0m     \u001b[38;5;28;01mif\u001b[39;00m used \u001b[38;5;129;01mis\u001b[39;00m \u001b[38;5;28;01mNone\u001b[39;00m: used \u001b[38;5;241m=\u001b[39m \u001b[38;5;28mset\u001b[39m()\n",
      "\u001b[1;31mNameError\u001b[0m: name 'read_graph' is not defined"
     ]
    }
   ],
   "source": [
    "# Обход графа в глубину через рекурсию\n",
    "# import read_graph\n",
    "G = read_graph()\n",
    "\n",
    "def dfs(G, start, used=None): #used нельзя сразу изменяемым делать\n",
    "    if used is None: used = set()\n",
    "    used.add(start)\n",
    "    print(f\"call {start}\", end=\" \")\n",
    "    for neigh in G[start]:\n",
    "        if neigh not in used:\n",
    "            dfs(G, neigh, used)\n",
    "    print(f\"{start} finish.\", end=\" \")\n",
    "\n",
    "used = set()\n",
    "dfs(G, 'A')\n",
    "print(used) # все компоненты связности"
   ]
  }
 ],
 "metadata": {
  "kernelspec": {
   "display_name": "Python 3",
   "language": "python",
   "name": "python3"
  },
  "language_info": {
   "codemirror_mode": {
    "name": "ipython",
    "version": 3
   },
   "file_extension": ".py",
   "mimetype": "text/x-python",
   "name": "python",
   "nbconvert_exporter": "python",
   "pygments_lexer": "ipython3",
   "version": "3.11.5"
  }
 },
 "nbformat": 4,
 "nbformat_minor": 2
}
