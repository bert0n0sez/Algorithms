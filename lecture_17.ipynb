{
 "cells": [
  {
   "cell_type": "markdown",
   "metadata": {},
   "source": [
    "# Лекция 17\n",
    "## Связные списки\n",
    "\n",
    "Linked list\n",
    "head         ----> None\n",
    "\n",
    "head         ----> Node \n",
    "\n",
    "\n",
    "Быстрее вставка и удаление\n",
    "показывает в одну сторону \n",
    "example:\n",
    "l = [1, [2, [3, [4, [5, [6,  [7, [8, [9, [10, [11,  [12]]]]]]]]]]]]\n",
    "\n",
    "## Двусвязный список\n",
    "показывает туда и обратно\n",
    "\n",
    "## Кольцевой буфер \n",
    "круглый стол \n",
    "есть current "
   ]
  },
  {
   "cell_type": "code",
   "execution_count": null,
   "metadata": {},
   "outputs": [
    {
     "name": "stdout",
     "output_type": "stream",
     "text": [
      "52 56 48 75 16 83 12 29 65 18 18 65 29 12 83 16 75 48 56 52 \n"
     ]
    }
   ],
   "source": [
    "class Node:\n",
    "\n",
    "    def __init__(self, data, nxt=None):\n",
    "        self.data = data\n",
    "        self.next = nxt\n",
    "\n",
    "    def insert(self, data):\n",
    "        n = Node(data, self.next)\n",
    "        self.next = n\n",
    "\n",
    "    def remove(self):\n",
    "        r = next.data\n",
    "        self.next = self.next.next\n",
    "        return r\n",
    "    \n",
    "\n",
    "class LinkedList:\n",
    "\n",
    "    def __init__(self):\n",
    "        self.head = None\n",
    "\n",
    "    def add(self, data):\n",
    "        n = Node(data, self.head)\n",
    "        if self.head is None:\n",
    "            self.head = self.tail = n\n",
    "        else:\n",
    "            self.head = n\n",
    "\n",
    "    def append(self, data):\n",
    "        n = Node(data, self.head)\n",
    "        if self.head is None:\n",
    "            self.head = self.tail = n\n",
    "        else:\n",
    "            self.head = n\n",
    "\n",
    "    def pop(self):\n",
    "        if self.head is None:\n",
    "            raise ValueError('pop from empty Linked List')\n",
    "        res = self.head.data\n",
    "        self.head = self.head.next\n",
    "        if self.head is None: \n",
    "            self.tail = None\n",
    "        return res\n",
    "    \n",
    "    def is_empty(self):\n",
    "        return self.head is None\n",
    "    \n",
    "if __name__ == \"__main__\":\n",
    "    from random import randint\n",
    "    l = LinkedList()\n",
    "    for _ in range(10):\n",
    "        x = randint(10, 99)\n",
    "        print(x, end=' ')\n",
    "        l.add(x)\n",
    "\n",
    "    while not l.is_empty():\n",
    "        print(l.pop(), end=' ')\n",
    "\n",
    "    print()\n",
    "    \n"
   ]
  },
  {
   "cell_type": "markdown",
   "metadata": {},
   "source": [
    "## Двоичное сортировочное дерево\n",
    "\n",
    "добавление и удаление не в худшем случае порядка $log(n)$\n",
    "\n",
    "без повторов должно быть \n",
    "\n",
    "Сбалагнсированное и не сбалансированное дерево \n",
    "\n",
    "на зачете балансировка идейно "
   ]
  },
  {
   "cell_type": "code",
   "execution_count": null,
   "metadata": {},
   "outputs": [],
   "source": []
  }
 ],
 "metadata": {
  "kernelspec": {
   "display_name": "Python 3",
   "language": "python",
   "name": "python3"
  },
  "language_info": {
   "codemirror_mode": {
    "name": "ipython",
    "version": 3
   },
   "file_extension": ".py",
   "mimetype": "text/x-python",
   "name": "python",
   "nbconvert_exporter": "python",
   "pygments_lexer": "ipython3",
   "version": "3.11.5"
  }
 },
 "nbformat": 4,
 "nbformat_minor": 2
}
