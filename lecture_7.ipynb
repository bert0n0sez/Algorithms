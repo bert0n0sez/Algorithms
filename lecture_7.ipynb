{
 "cells": [
  {
   "cell_type": "markdown",
   "metadata": {},
   "source": [
    "# Лекция 7\n",
    "## Рекурсия\n",
    "Глубина рекурсии 1000 \n",
    "факториал\n",
    "нод \n",
    "фибоначи\n",
    "## Генерация всех последовательностей и перестановок\n",
    "Построение фракталов\n",
    "# q sort"
   ]
  },
  {
   "cell_type": "code",
   "execution_count": null,
   "metadata": {},
   "outputs": [],
   "source": [
    "def factorial(N:int) -> int:\n",
    "    ''' calc N! = N * (N-1)!\n",
    "    if N < 0 return None\n",
    "    '''\n",
    "    if N == 0: return 1\n",
    "    if N < 0: return\n",
    "    return N * factorial(N-1)"
   ]
  },
  {
   "cell_type": "code",
   "execution_count": null,
   "metadata": {},
   "outputs": [],
   "source": [
    "def fib(n:int) -> int:\n",
    "    if n < 3: return 1\n",
    "    return fib(n - 1) + fib(n - 2)\n",
    "\n",
    "#очень долго"
   ]
  },
  {
   "cell_type": "code",
   "execution_count": null,
   "metadata": {},
   "outputs": [],
   "source": [
    "def hanoy(n:int , i:int = 1, j:int = 3):\n",
    "    '''solve hanoy towers problem:\n",
    "    move N rings from branch i to branch j\n",
    "    '''\n",
    "    if n == 0: return\n",
    "    hanoy(n-1, i, 6 - i - j)\n",
    "    print(f\"Переместить кольцо с {i} на {j}\")\n",
    "    hanoy(n - 1, 6 - i - j, j)\n",
    "\n"
   ]
  },
  {
   "cell_type": "code",
   "execution_count": 3,
   "metadata": {},
   "outputs": [],
   "source": [
    "def matreshka(n:int, pref=' '):\n",
    "    '''make matreshka size n\n",
    "    '''\n",
    "    print('/', '-' * n, '//', sep=' ')\n",
    "    matreshka(n-1, pref=pref+'|')\n",
    "    print(pref, '\\\\', '-' * 2 * n, '/', pref, sep=' ')\n",
    "    if n == 1:\n",
    "        print(pref, '(  )', pref, sep=' ')\n",
    "        return "
   ]
  },
  {
   "cell_type": "code",
   "execution_count": 3,
   "metadata": {},
   "outputs": [
    {
     "name": "stdout",
     "output_type": "stream",
     "text": [
      "aaa\n",
      "aab\n",
      "aac\n",
      "aad\n",
      "aba\n",
      "abb\n",
      "abc\n",
      "abd\n",
      "aca\n",
      "acb\n",
      "acc\n",
      "acd\n",
      "ada\n",
      "adb\n",
      "adc\n",
      "add\n",
      "baa\n",
      "bab\n",
      "bac\n",
      "bad\n",
      "bba\n",
      "bbb\n",
      "bbc\n",
      "bbd\n",
      "bca\n",
      "bcb\n",
      "bcc\n",
      "bcd\n",
      "bda\n",
      "bdb\n",
      "bdc\n",
      "bdd\n",
      "caa\n",
      "cab\n",
      "cac\n",
      "cad\n",
      "cba\n",
      "cbb\n",
      "cbc\n",
      "cbd\n",
      "cca\n",
      "ccb\n",
      "ccc\n",
      "ccd\n",
      "cda\n",
      "cdb\n",
      "cdc\n",
      "cdd\n",
      "daa\n",
      "dab\n",
      "dac\n",
      "dad\n",
      "dba\n",
      "dbb\n",
      "dbc\n",
      "dbd\n",
      "dca\n",
      "dcb\n",
      "dcc\n",
      "dcd\n",
      "dda\n",
      "ddb\n",
      "ddc\n",
      "ddd\n"
     ]
    }
   ],
   "source": [
    "def gener_seq(A:list, n:int, pref=None):\n",
    "    '''generate all sequences from symbol in A with length n\n",
    "    '''\n",
    "    if pref is None: pref = []\n",
    "    if n == 0: \n",
    "        print(''.join(map(str, pref)))\n",
    "        return\n",
    "    for x in A:\n",
    "#        if x not in pref:   для перестановок\n",
    "        pref.append(x)\n",
    "        gener_seq(A, n-1, pref)\n",
    "        pref.pop()\n",
    "\n",
    "gener_seq(list('abcd'), 3)"
   ]
  },
  {
   "cell_type": "code",
   "execution_count": 1,
   "metadata": {},
   "outputs": [
    {
     "ename": "RecursionError",
     "evalue": "maximum recursion depth exceeded",
     "output_type": "error",
     "traceback": [
      "\u001b[1;31m---------------------------------------------------------------------------\u001b[0m",
      "\u001b[1;31mRecursionError\u001b[0m                            Traceback (most recent call last)",
      "Cell \u001b[1;32mIn[1], line 14\u001b[0m\n\u001b[0;32m     11\u001b[0m     F(l\u001b[38;5;241m/\u001b[39m\u001b[38;5;241m/\u001b[39m\u001b[38;5;241m3\u001b[39m, n\u001b[38;5;241m-\u001b[39m\u001b[38;5;241m1\u001b[39m)\n\u001b[0;32m     13\u001b[0m turtle\u001b[38;5;241m.\u001b[39mtracer(\u001b[38;5;28;01mFalse\u001b[39;00m)\n\u001b[1;32m---> 14\u001b[0m \u001b[43mF\u001b[49m\u001b[43m(\u001b[49m\u001b[38;5;241;43m3\u001b[39;49m\u001b[43m \u001b[49m\u001b[38;5;241;43m*\u001b[39;49m\u001b[38;5;241;43m*\u001b[39;49m\u001b[43m \u001b[49m\u001b[38;5;241;43m7\u001b[39;49m\u001b[43m,\u001b[49m\u001b[43m \u001b[49m\u001b[38;5;241;43m6\u001b[39;49m\u001b[43m)\u001b[49m\n\u001b[0;32m     16\u001b[0m turtle\u001b[38;5;241m.\u001b[39mupdate\n\u001b[0;32m     17\u001b[0m turtle\u001b[38;5;241m.\u001b[39mmainloop()\n",
      "Cell \u001b[1;32mIn[1], line 5\u001b[0m, in \u001b[0;36mF\u001b[1;34m(l, n)\u001b[0m\n\u001b[0;32m      3\u001b[0m \u001b[38;5;28;01mdef\u001b[39;00m \u001b[38;5;21mF\u001b[39m(l, n):\n\u001b[0;32m      4\u001b[0m     \u001b[38;5;28;01mif\u001b[39;00m n \u001b[38;5;241m==\u001b[39m \u001b[38;5;241m1\u001b[39m: turtle\u001b[38;5;241m.\u001b[39mforward(l)\n\u001b[1;32m----> 5\u001b[0m     \u001b[43mF\u001b[49m\u001b[43m(\u001b[49m\u001b[43ml\u001b[49m\u001b[38;5;241;43m/\u001b[39;49m\u001b[38;5;241;43m/\u001b[39;49m\u001b[38;5;241;43m3\u001b[39;49m\u001b[43m,\u001b[49m\u001b[43m \u001b[49m\u001b[43mn\u001b[49m\u001b[38;5;241;43m-\u001b[39;49m\u001b[38;5;241;43m1\u001b[39;49m\u001b[43m)\u001b[49m\n\u001b[0;32m      6\u001b[0m     turtle\u001b[38;5;241m.\u001b[39mright(\u001b[38;5;241m-\u001b[39m\u001b[38;5;241m60\u001b[39m)\n\u001b[0;32m      7\u001b[0m     F(l\u001b[38;5;241m/\u001b[39m\u001b[38;5;241m/\u001b[39m\u001b[38;5;241m3\u001b[39m, n\u001b[38;5;241m-\u001b[39m\u001b[38;5;241m1\u001b[39m)\n",
      "Cell \u001b[1;32mIn[1], line 5\u001b[0m, in \u001b[0;36mF\u001b[1;34m(l, n)\u001b[0m\n\u001b[0;32m      3\u001b[0m \u001b[38;5;28;01mdef\u001b[39;00m \u001b[38;5;21mF\u001b[39m(l, n):\n\u001b[0;32m      4\u001b[0m     \u001b[38;5;28;01mif\u001b[39;00m n \u001b[38;5;241m==\u001b[39m \u001b[38;5;241m1\u001b[39m: turtle\u001b[38;5;241m.\u001b[39mforward(l)\n\u001b[1;32m----> 5\u001b[0m     \u001b[43mF\u001b[49m\u001b[43m(\u001b[49m\u001b[43ml\u001b[49m\u001b[38;5;241;43m/\u001b[39;49m\u001b[38;5;241;43m/\u001b[39;49m\u001b[38;5;241;43m3\u001b[39;49m\u001b[43m,\u001b[49m\u001b[43m \u001b[49m\u001b[43mn\u001b[49m\u001b[38;5;241;43m-\u001b[39;49m\u001b[38;5;241;43m1\u001b[39;49m\u001b[43m)\u001b[49m\n\u001b[0;32m      6\u001b[0m     turtle\u001b[38;5;241m.\u001b[39mright(\u001b[38;5;241m-\u001b[39m\u001b[38;5;241m60\u001b[39m)\n\u001b[0;32m      7\u001b[0m     F(l\u001b[38;5;241m/\u001b[39m\u001b[38;5;241m/\u001b[39m\u001b[38;5;241m3\u001b[39m, n\u001b[38;5;241m-\u001b[39m\u001b[38;5;241m1\u001b[39m)\n",
      "    \u001b[1;31m[... skipping similar frames: F at line 5 (2971 times)]\u001b[0m\n",
      "Cell \u001b[1;32mIn[1], line 5\u001b[0m, in \u001b[0;36mF\u001b[1;34m(l, n)\u001b[0m\n\u001b[0;32m      3\u001b[0m \u001b[38;5;28;01mdef\u001b[39;00m \u001b[38;5;21mF\u001b[39m(l, n):\n\u001b[0;32m      4\u001b[0m     \u001b[38;5;28;01mif\u001b[39;00m n \u001b[38;5;241m==\u001b[39m \u001b[38;5;241m1\u001b[39m: turtle\u001b[38;5;241m.\u001b[39mforward(l)\n\u001b[1;32m----> 5\u001b[0m     \u001b[43mF\u001b[49m\u001b[43m(\u001b[49m\u001b[43ml\u001b[49m\u001b[38;5;241;43m/\u001b[39;49m\u001b[38;5;241;43m/\u001b[39;49m\u001b[38;5;241;43m3\u001b[39;49m\u001b[43m,\u001b[49m\u001b[43m \u001b[49m\u001b[43mn\u001b[49m\u001b[38;5;241;43m-\u001b[39;49m\u001b[38;5;241;43m1\u001b[39;49m\u001b[43m)\u001b[49m\n\u001b[0;32m      6\u001b[0m     turtle\u001b[38;5;241m.\u001b[39mright(\u001b[38;5;241m-\u001b[39m\u001b[38;5;241m60\u001b[39m)\n\u001b[0;32m      7\u001b[0m     F(l\u001b[38;5;241m/\u001b[39m\u001b[38;5;241m/\u001b[39m\u001b[38;5;241m3\u001b[39m, n\u001b[38;5;241m-\u001b[39m\u001b[38;5;241m1\u001b[39m)\n",
      "\u001b[1;31mRecursionError\u001b[0m: maximum recursion depth exceeded"
     ]
    },
    {
     "ename": "",
     "evalue": "",
     "output_type": "error",
     "traceback": [
      "\u001b[1;31mThe Kernel crashed while executing code in the current cell or a previous cell. \n",
      "\u001b[1;31mPlease review the code in the cell(s) to identify a possible cause of the failure. \n",
      "\u001b[1;31mClick <a href='https://aka.ms/vscodeJupyterKernelCrash'>here</a> for more info. \n",
      "\u001b[1;31mView Jupyter <a href='command:jupyter.viewOutput'>log</a> for further details."
     ]
    }
   ],
   "source": [
    "import turtle \n",
    "\n",
    "def F(l, n):\n",
    "    if n == 1: turtle.forward(l)\n",
    "    F(l//3, n-1)\n",
    "    turtle.right(-60)\n",
    "    F(l//3, n-1)\n",
    "    turtle.right(120)\n",
    "    F(l//3, n-1)\n",
    "    turtle.right(-60)\n",
    "    F(l//3, n-1)\n",
    "\n",
    "turtle.tracer(False)\n",
    "F(3 ** 7, 6)\n",
    "\n",
    "turtle.update\n",
    "turtle.mainloop()"
   ]
  }
 ],
 "metadata": {
  "kernelspec": {
   "display_name": "Python 3",
   "language": "python",
   "name": "python3"
  },
  "language_info": {
   "codemirror_mode": {
    "name": "ipython",
    "version": 3
   },
   "file_extension": ".py",
   "mimetype": "text/x-python",
   "name": "python",
   "nbconvert_exporter": "python",
   "pygments_lexer": "ipython3",
   "version": "3.11.5"
  }
 },
 "nbformat": 4,
 "nbformat_minor": 2
}
