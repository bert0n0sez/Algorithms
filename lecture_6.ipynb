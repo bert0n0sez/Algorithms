{
 "cells": [
  {
   "cell_type": "markdown",
   "metadata": {},
   "source": [
    "# Лекция 6\n",
    "## Сортировки \n",
    "Виды сортировок\n",
    "1) Сортировка обезьяны O(n!)\n",
    "2) Сортировка дурака O(n ** 3) --> O(n)\n",
    "3) Сортировка выбором O(n ** 2)\n",
    "4) Сортировка пузырьком O(n ** 2)\n",
    "5) Сортировка вставкой O(n ** 2) --> O(n)\n",
    "6) Сортировка подсчётом O(n)\n",
    "7) Сортировка поразрядная O(n * m)\n",
    "\n",
    "3, 4, 5 - квадратичные сортировки \n",
    "далее специфические "
   ]
  },
  {
   "cell_type": "code",
   "execution_count": 1,
   "metadata": {},
   "outputs": [],
   "source": [
    "def is_sorted(A:list) -> bool:\n",
    "    for i in range(len(A) - 1):\n",
    "        if A[i] > A[i + 1]:\n",
    "            return False\n",
    "    return True"
   ]
  },
  {
   "cell_type": "code",
   "execution_count": 2,
   "metadata": {},
   "outputs": [],
   "source": [
    "def sel_sort(A:list):\n",
    "    '''sort A using selecting sort\n",
    "    '''\n",
    "    for i in range(len(A) - 1):\n",
    "        for j in range(i + 1, len(A)):\n",
    "            if A[i] > A[j]:\n",
    "                A[i], A[j] = A[j] = A[i]\n",
    "\n",
    "def bubble_sort(A:list):\n",
    "    '''\n",
    "    '''\n",
    "    for i in range(len(A) - 1, 0, -1):\n",
    "        for j in range(i):\n",
    "            if A[j] > A[j + 1]:\n",
    "                A[j], A[j + 1] = A[j + 1], A[j]\n",
    "\n",
    "\n",
    "def insert_sort(A:list):\n",
    "    '''\n",
    "    '''\n",
    "    for i in range(1, len(A)):\n",
    "        while i > 0 and A[i] < A[i - 1]:\n",
    "            A[i], A[i - 1] = A[i - 1], A[i]\n",
    "            i -= 1\n",
    "\n",
    "\n",
    "\n",
    "\n"
   ]
  },
  {
   "cell_type": "code",
   "execution_count": 3,
   "metadata": {},
   "outputs": [
    {
     "ename": "ImportError",
     "evalue": "cannot import name 'radiant' from 'random' (c:\\Users\\Albert\\AppData\\Local\\Programs\\Python\\Python311\\Lib\\random.py)",
     "output_type": "error",
     "traceback": [
      "\u001b[1;31m---------------------------------------------------------------------------\u001b[0m",
      "\u001b[1;31mImportError\u001b[0m                               Traceback (most recent call last)",
      "Cell \u001b[1;32mIn[3], line 21\u001b[0m\n\u001b[0;32m     18\u001b[0m             A\u001b[38;5;241m.\u001b[39mappend(i)\n\u001b[0;32m     20\u001b[0m \u001b[38;5;28;01mif\u001b[39;00m \u001b[38;5;18m__name__\u001b[39m \u001b[38;5;241m==\u001b[39m \u001b[38;5;124m'\u001b[39m\u001b[38;5;124m__main__\u001b[39m\u001b[38;5;124m'\u001b[39m:\n\u001b[1;32m---> 21\u001b[0m     \u001b[38;5;28;01mfrom\u001b[39;00m \u001b[38;5;21;01mrandom\u001b[39;00m \u001b[38;5;28;01mimport\u001b[39;00m radiant\n\u001b[0;32m     22\u001b[0m     A \u001b[38;5;241m=\u001b[39m [radiant(\u001b[38;5;241m0\u001b[39m, \u001b[38;5;241m9\u001b[39m) \u001b[38;5;28;01mfor\u001b[39;00m _ \u001b[38;5;129;01min\u001b[39;00m \u001b[38;5;28mrange\u001b[39m(\u001b[38;5;241m20\u001b[39m)]\n\u001b[0;32m     23\u001b[0m     \u001b[38;5;28mprint\u001b[39m(A)\n",
      "\u001b[1;31mImportError\u001b[0m: cannot import name 'radiant' from 'random' (c:\\Users\\Albert\\AppData\\Local\\Programs\\Python\\Python311\\Lib\\random.py)"
     ]
    }
   ],
   "source": [
    "def radix_sort(A:list):\n",
    "    for i in range(4):\n",
    "        lists = [[] for _ in range(10)]\n",
    "        for a in A:\n",
    "            lists[(a // 10 ** i) % 10].append(a)\n",
    "        A.clear()\n",
    "        for lst in lists:\n",
    "            for x in lst:\n",
    "                A.append(x)\n",
    "\n",
    "def count_sort(A:list):\n",
    "    counts = [0] * 10\n",
    "    for i in A:\n",
    "        counts[i] += 1\n",
    "    A.clear()\n",
    "    for i in range(10):\n",
    "        for _ in range(counts[i]):\n",
    "            A.append(i)\n",
    "\n",
    "if __name__ == '__main__':\n",
    "    from random import radiant\n",
    "    A = [radiant(0, 9) for _ in range(20)]\n",
    "    print(A)\n",
    "    count_sort(A)\n",
    "    print(A)"
   ]
  }
 ],
 "metadata": {
  "kernelspec": {
   "display_name": "Python 3",
   "language": "python",
   "name": "python3"
  },
  "language_info": {
   "codemirror_mode": {
    "name": "ipython",
    "version": 3
   },
   "file_extension": ".py",
   "mimetype": "text/x-python",
   "name": "python",
   "nbconvert_exporter": "python",
   "pygments_lexer": "ipython3",
   "version": "3.11.5"
  }
 },
 "nbformat": 4,
 "nbformat_minor": 2
}
