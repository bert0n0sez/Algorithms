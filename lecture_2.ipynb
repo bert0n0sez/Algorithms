{
 "cells": [
  {
   "cell_type": "markdown",
   "metadata": {},
   "source": [
    "# Лекция 2 \n",
    "## Матиматическая логика\n",
    "\n",
    "f(x)\n",
    "x = bool (0,1)\n",
    "1. f(x) = 0 \n",
    "2. f(x) = x\n",
    "3. f(x) = x (отриц)\n",
    "4. f(x) = 1 \n",
    "\n",
    "f(x,y) \n",
    "x, y = bool (0,1)\n",
    "1. f(x) = x ^ y (коньюкция) оба должны быть истиной для f = 1 \n",
    "2. f(x) = x \\/ y (дизюнкция) или или \n",
    "3. f(x) = x == y \n",
    "4. x != y (не равно)\n",
    "5. x треугольник y \n",
    "из лжи можно получить что угодно (даже истину)\n",
    "\n",
    "СКНФ\n",
    "СДНФ\n",
    "\n",
    "not x \n",
    "x and y \n",
    "x or y \n",
    "True False\n",
    "==; !=; >; <; >=; <= \n",
    "\n",
    "A or (B and C) = (A or B) and (A or C)\n",
    "\n",
    "A and (B or C) = (A and B) or (A and C)\n",
    "\n",
    "__ if <условие> else __\n",
    "\n",
    "## Системы счисления"
   ]
  },
  {
   "cell_type": "code",
   "execution_count": null,
   "metadata": {},
   "outputs": [],
   "source": [
    "flag = True\n",
    "\n",
    "while (x := int(input())) != 0: flag = flag and (x % 2 == 1)\n",
    "\n",
    "print('Всё нечетные' if flag else 'Есть четные') \n",
    "\n",
    "    "
   ]
  },
  {
   "cell_type": "code",
   "execution_count": 2,
   "metadata": {},
   "outputs": [
    {
     "name": "stdout",
     "output_type": "stream",
     "text": [
      "8\n"
     ]
    }
   ],
   "source": [
    "x = True and 8\n",
    "print(x)"
   ]
  },
  {
   "cell_type": "code",
   "execution_count": null,
   "metadata": {},
   "outputs": [],
   "source": [
    "x = False or 10\n",
    "print(x)"
   ]
  },
  {
   "cell_type": "code",
   "execution_count": 3,
   "metadata": {},
   "outputs": [
    {
     "name": "stdout",
     "output_type": "stream",
     "text": [
      "True\n"
     ]
    }
   ],
   "source": [
    "x = True or input()\n",
    "print(x)"
   ]
  },
  {
   "cell_type": "code",
   "execution_count": null,
   "metadata": {},
   "outputs": [],
   "source": [
    "'''if f(x) != 0:\n",
    "то же самое\n",
    "if f(x): '''\n"
   ]
  }
 ],
 "metadata": {
  "kernelspec": {
   "display_name": "Python 3",
   "language": "python",
   "name": "python3"
  },
  "language_info": {
   "codemirror_mode": {
    "name": "ipython",
    "version": 3
   },
   "file_extension": ".py",
   "mimetype": "text/x-python",
   "name": "python",
   "nbconvert_exporter": "python",
   "pygments_lexer": "ipython3",
   "version": "3.11.5"
  }
 },
 "nbformat": 4,
 "nbformat_minor": 2
}
