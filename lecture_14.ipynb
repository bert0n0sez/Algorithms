{
 "cells": [
  {
   "cell_type": "markdown",
   "metadata": {},
   "source": [
    "# Лекция 14\n",
    "## ООП\n",
    "Статичные методы - не зависят от self \n",
    "\n",
    "Абстрактные классы - нельзя создать обьект класса (типа Enemy)\n",
    "\n",
    "Шаблоны проектирования  \n",
    "\n",
    "https://ru.wikipedia.org/wiki/%D0%A8%D0%B0%D0%B1%D0%BB%D0%BE%D0%BD_%D0%BF%D1%80%D0%BE%D0%B5%D0%BA%D1%82%D0%B8%D1%80%D0%BE%D0%B2%D0%B0%D0%BD%D0%B8%D1%8F\n",
    "\n",
    "одиночка - singleton - глобальная переменная в плане классов \n",
    "\n",
    "адаптер\n",
    "\n",
    "сайт refractoring guru "
   ]
  },
  {
   "cell_type": "code",
   "execution_count": null,
   "metadata": {},
   "outputs": [
    {
     "name": "stdout",
     "output_type": "stream",
     "text": [
      "<__main__.Vec object at 0x00000251E1100D10>\n"
     ]
    }
   ],
   "source": [
    "import math\n",
    "\n",
    "class Vec:\n",
    "    def __init__(self, x, y=0):\n",
    "        self.x = x\n",
    "        self.y = y\n",
    "\n",
    "    def str(self, x, y):\n",
    "        return f'({self.x}, {self.y})'\n",
    "\n",
    "    @staticmethod\n",
    "    def from_angle(angle):\n",
    "        ''' create vector x, where |x| = 1 and x * (1, 0) = cos (angle)\n",
    "        '''\n",
    "        return Vec(math.cos(angle * math.pi / 180), math.sin(angle * math.pi / 180)) # не меняется при наследовании\n",
    "    \n",
    "    @classmethod\n",
    "    def from_angle(cls, angle):\n",
    "        ''' create vector x, where |x| = 1 and x * (1, 0) = cos (angle)\n",
    "        '''\n",
    "        return cls(math.cos(angle * math.pi / 180), math.sin(angle * math.pi / 180))  # меняется при наследуется\n",
    "\n",
    "if __name__ == \"__main__\":\n",
    "    a = Vec(1, 4)\n",
    "    b = Vec.from_angle(30)\n",
    "    b = a.from_angle(30)   # работает благодаря статиксметод\n",
    "    print(a)"
   ]
  },
  {
   "cell_type": "code",
   "execution_count": 5,
   "metadata": {},
   "outputs": [
    {
     "name": "stdout",
     "output_type": "stream",
     "text": [
      "Alex 870451 100\n"
     ]
    }
   ],
   "source": [
    "import abc\n",
    "import random\n",
    "\n",
    "class UniMember(abc.ABC): # абстрактный класс \n",
    "    '''Abstract class for University member\n",
    "    '''\n",
    "    def __init__(self, name):\n",
    "        self.name = name\n",
    "        self.__id = random.randint(0, 1_000_000)\n",
    "\n",
    "    @property\n",
    "    def id(self):\n",
    "        return self.__id\n",
    "    \n",
    "    @abc.abstractmethod\n",
    "    def get_salary(self):\n",
    "        'return salary of member'\n",
    "\n",
    "class Teacher(UniMember):\n",
    "    def get_salary(self):\n",
    "        return 100\n",
    "\n",
    "\n",
    "if __name__=='__main__':\n",
    "    x = Teacher('Alex')\n",
    "    print(x.name, x.id, x.get_salary())\n"
   ]
  }
 ],
 "metadata": {
  "kernelspec": {
   "display_name": "Python 3",
   "language": "python",
   "name": "python3"
  },
  "language_info": {
   "codemirror_mode": {
    "name": "ipython",
    "version": 3
   },
   "file_extension": ".py",
   "mimetype": "text/x-python",
   "name": "python",
   "nbconvert_exporter": "python",
   "pygments_lexer": "ipython3",
   "version": "3.11.5"
  }
 },
 "nbformat": 4,
 "nbformat_minor": 2
}
